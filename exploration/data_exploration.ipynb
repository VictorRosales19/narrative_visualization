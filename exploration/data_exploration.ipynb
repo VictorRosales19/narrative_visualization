{
 "cells": [
  {
   "cell_type": "markdown",
   "id": "ee9c87d5-a1f1-459e-817d-e82a1d4df070",
   "metadata": {},
   "source": [
    "# Objective\n",
    "---------------\n",
    "\n",
    "Data Exploration\n",
    "\n",
    "+ **Author:** Victor Rosales\n",
    "+ **Data:** 07/09/2025"
   ]
  },
  {
   "cell_type": "markdown",
   "id": "ed4ceff2-844a-45d3-b3e5-028e95ecc321",
   "metadata": {},
   "source": [
    "# Libraries"
   ]
  },
  {
   "cell_type": "code",
   "execution_count": 336,
   "id": "9163fd29-1a6d-409d-8cbe-eefd2a4e7e9f",
   "metadata": {},
   "outputs": [],
   "source": [
    "from sklearn.experimental import enable_iterative_imputer  # noqa\n",
    "from sklearn.impute import IterativeImputer\n",
    "from sklearn.linear_model import BayesianRidge\n",
    "\n",
    "import matplotlib.pyplot as plt\n",
    "import matplotlib.patches as mpatches\n",
    "import plotly_express as px\n",
    "\n",
    "import plotly_express as px\n",
    "import pandas as pd\n",
    "import numpy as np\n",
    "\n",
    "import os"
   ]
  },
  {
   "cell_type": "markdown",
   "id": "0df94bbb-fcc5-40f8-9e6e-c120a4b6660e",
   "metadata": {},
   "source": [
    "# Classes and Functions"
   ]
  },
  {
   "cell_type": "code",
   "execution_count": null,
   "id": "2543fa45-0e86-473f-9c19-33fe58ffd87d",
   "metadata": {},
   "outputs": [],
   "source": []
  },
  {
   "cell_type": "markdown",
   "id": "81589017-736f-4bb9-8bef-99d10e01f173",
   "metadata": {},
   "source": [
    "# Load data"
   ]
  },
  {
   "cell_type": "markdown",
   "id": "5205c3d3-769b-4a4b-b875-1590e536e506",
   "metadata": {},
   "source": [
    "## Based on the exploration"
   ]
  },
  {
   "cell_type": "code",
   "execution_count": 68,
   "id": "2f66e183-895c-4846-8e6f-18a3eaa6d64f",
   "metadata": {},
   "outputs": [],
   "source": [
    "# Not useful columns\n",
    "drop_columns = [\n",
    "    'area', \n",
    "    'area_title',\n",
    "    'area_type', \n",
    "    'naics', \n",
    "    'naics_title', \n",
    "    'i_group',\n",
    "    'own_code', \n",
    "    'jobs_1000',\n",
    "    'loc_quotient',\n",
    "    'pct_total',\n",
    "    'annual', \n",
    "    'hourly', \n",
    "    'mean_prse', \n",
    "    'emp_prse'\n",
    "]"
   ]
  },
  {
   "cell_type": "code",
   "execution_count": 69,
   "id": "a388f694-5e04-4b98-82c9-9543c7fbc550",
   "metadata": {},
   "outputs": [],
   "source": [
    "# columns that should be numeric\n",
    "numeric_columns = [\n",
    "    'h_mean',\n",
    "    'h_pct10', \n",
    "    'h_pct25', \n",
    "    'h_median', \n",
    "    'h_pct75',\n",
    "    'h_pct90', \n",
    "    'a_mean', \n",
    "    'a_pct10', \n",
    "    'a_pct25', \n",
    "    'a_median', \n",
    "    'a_pct75', \n",
    "    'a_pct90'\n",
    "]"
   ]
  },
  {
   "cell_type": "markdown",
   "id": "8d6db73e-6d24-40e9-8f1c-85abfb504ba4",
   "metadata": {},
   "source": [
    "## ETL"
   ]
  },
  {
   "cell_type": "code",
   "execution_count": 70,
   "id": "ab0dc88b-5ac8-4465-a768-24ba25bc6396",
   "metadata": {},
   "outputs": [
    {
     "data": {
      "text/plain": [
       "['income.csv',\n",
       " 'national_M2019_dl.xlsx',\n",
       " 'national_M2020_dl.xlsx',\n",
       " 'national_M2021_dl.xlsx',\n",
       " 'national_M2022_dl.xlsx',\n",
       " 'national_M2023_dl.xlsx',\n",
       " 'national_M2024_dl.xlsx',\n",
       " 'test.csv']"
      ]
     },
     "execution_count": 70,
     "metadata": {},
     "output_type": "execute_result"
    }
   ],
   "source": [
    "data_folder = \"../data\"\n",
    "\n",
    "os.listdir(data_folder)"
   ]
  },
  {
   "cell_type": "code",
   "execution_count": 340,
   "id": "466fa494-651c-4300-84f4-287e1dd2b8c1",
   "metadata": {},
   "outputs": [
    {
     "name": "stderr",
     "output_type": "stream",
     "text": [
      "C:\\Users\\Vicros2022\\venvs\\data_vis\\Lib\\site-packages\\sklearn\\impute\\_iterative.py:895: ConvergenceWarning:\n",
      "\n",
      "[IterativeImputer] Early stopping criterion not reached.\n",
      "\n",
      "C:\\Users\\Vicros2022\\venvs\\data_vis\\Lib\\site-packages\\sklearn\\impute\\_iterative.py:895: ConvergenceWarning:\n",
      "\n",
      "[IterativeImputer] Early stopping criterion not reached.\n",
      "\n",
      "C:\\Users\\Vicros2022\\venvs\\data_vis\\Lib\\site-packages\\sklearn\\impute\\_iterative.py:895: ConvergenceWarning:\n",
      "\n",
      "[IterativeImputer] Early stopping criterion not reached.\n",
      "\n",
      "C:\\Users\\Vicros2022\\venvs\\data_vis\\Lib\\site-packages\\sklearn\\impute\\_iterative.py:895: ConvergenceWarning:\n",
      "\n",
      "[IterativeImputer] Early stopping criterion not reached.\n",
      "\n",
      "C:\\Users\\Vicros2022\\venvs\\data_vis\\Lib\\site-packages\\sklearn\\impute\\_iterative.py:895: ConvergenceWarning:\n",
      "\n",
      "[IterativeImputer] Early stopping criterion not reached.\n",
      "\n"
     ]
    }
   ],
   "source": [
    "df_consolidated = pd.DataFrame()\n",
    "\n",
    "raw_files = [file_name for file_name in os.listdir(data_folder) if \"national\" in file_name]\n",
    "\n",
    "for file_name in raw_files:\n",
    "    # load data\n",
    "    df = pd.read_excel(f\"{data_folder}/{file_name}\")\n",
    "    # remove unnecessary columns \n",
    "    df.columns = df.columns.str.lower()\n",
    "    df = df.drop(columns=drop_columns)\n",
    "\n",
    "    # Remove non-numeric values from numeric columns\n",
    "    df_num = df.loc[:, numeric_columns].copy()\n",
    "\n",
    "    for column in df_num.columns:\n",
    "        df_num.loc[df_num[column] == \"#\", column] = None\n",
    "        df_num.loc[df_num[column] == \"*\", column] = None\n",
    "        df_num.loc[df_num[column] == \"**\", column] = None\n",
    "    \n",
    "    df_num = df_num.apply(pd.to_numeric)\n",
    "\n",
    "    # Impute data using ML MICE - imputation\n",
    "    imputer = IterativeImputer(estimator=BayesianRidge(), random_state=0)\n",
    "    \n",
    "    imputed_data = imputer.fit_transform(df_num)\n",
    "    df_imputed = pd.DataFrame(imputed_data, columns=df_num.columns)\n",
    "\n",
    "    df.loc[:, numeric_columns] = df_imputed.round(2)\n",
    "    df[numeric_columns] = df[numeric_columns].astype(float)\n",
    "\n",
    "    # rename columns to be more understandable\n",
    "    df.columns = df.columns.str.replace(\"a_\", \"annual_\")\n",
    "    df.columns = df.columns.str.replace(\"h_\", \"hourly_\")\n",
    "    df.columns = df.columns.str.replace(\"occ\", \"occupation\")\n",
    "    df.columns = df.columns.str.replace(\"pct\", \"percentile_\")\n",
    "    df.columns = df.columns.str.replace(\"median\", \"percentile_50\")\n",
    "    df.columns = df.columns.str.replace(\"tot_emp\", \"total_employment\")\n",
    "    df.columns = df.columns.str.replace(\"o_group\", \"occupation_level\")\n",
    "\n",
    "    # add year of the data\n",
    "    df[\"year\"] = int(file_name[10:14])\n",
    "\n",
    "    df_consolidated = pd.concat([df_consolidated, df])\n",
    "\n",
    "    # break\n",
    "\n",
    "# remove unnecessary columns that are not in all files\n",
    "df_consolidated = df_consolidated.drop(columns=['prim_state', 'percentile__rpt']) # , 'occupation_code'"
   ]
  },
  {
   "cell_type": "code",
   "execution_count": 341,
   "id": "9659c3b8-96fd-444c-9ab6-574e197517e0",
   "metadata": {},
   "outputs": [
    {
     "data": {
      "text/html": [
       "<div>\n",
       "<style scoped>\n",
       "    .dataframe tbody tr th:only-of-type {\n",
       "        vertical-align: middle;\n",
       "    }\n",
       "\n",
       "    .dataframe tbody tr th {\n",
       "        vertical-align: top;\n",
       "    }\n",
       "\n",
       "    .dataframe thead th {\n",
       "        text-align: right;\n",
       "    }\n",
       "</style>\n",
       "<table border=\"1\" class=\"dataframe\">\n",
       "  <thead>\n",
       "    <tr style=\"text-align: right;\">\n",
       "      <th></th>\n",
       "      <th>occupation_code</th>\n",
       "      <th>occupation_title</th>\n",
       "      <th>occupation_level</th>\n",
       "      <th>total_employment</th>\n",
       "      <th>hourly_mean</th>\n",
       "      <th>annual_mean</th>\n",
       "      <th>hourly_percentile_10</th>\n",
       "      <th>hourly_percentile_25</th>\n",
       "      <th>hourly_percentile_50</th>\n",
       "      <th>hourly_percentile_75</th>\n",
       "      <th>hourly_percentile_90</th>\n",
       "      <th>annual_percentile_10</th>\n",
       "      <th>annual_percentile_25</th>\n",
       "      <th>annual_percentile_50</th>\n",
       "      <th>annual_percentile_75</th>\n",
       "      <th>annual_percentile_90</th>\n",
       "      <th>year</th>\n",
       "    </tr>\n",
       "  </thead>\n",
       "  <tbody>\n",
       "    <tr>\n",
       "      <th>0</th>\n",
       "      <td>00-0000</td>\n",
       "      <td>All Occupations</td>\n",
       "      <td>total</td>\n",
       "      <td>146875480</td>\n",
       "      <td>25.72</td>\n",
       "      <td>53490.0</td>\n",
       "      <td>10.35</td>\n",
       "      <td>13.02</td>\n",
       "      <td>19.14</td>\n",
       "      <td>30.88</td>\n",
       "      <td>48.57</td>\n",
       "      <td>21530.0</td>\n",
       "      <td>27080.0</td>\n",
       "      <td>39810.0</td>\n",
       "      <td>64240.00</td>\n",
       "      <td>101020.00</td>\n",
       "      <td>2019</td>\n",
       "    </tr>\n",
       "    <tr>\n",
       "      <th>1</th>\n",
       "      <td>11-0000</td>\n",
       "      <td>Management Occupations</td>\n",
       "      <td>major</td>\n",
       "      <td>8054120</td>\n",
       "      <td>58.88</td>\n",
       "      <td>122480.0</td>\n",
       "      <td>24.03</td>\n",
       "      <td>34.35</td>\n",
       "      <td>50.80</td>\n",
       "      <td>74.16</td>\n",
       "      <td>103.87</td>\n",
       "      <td>49990.0</td>\n",
       "      <td>71460.0</td>\n",
       "      <td>105660.0</td>\n",
       "      <td>154260.00</td>\n",
       "      <td>216019.49</td>\n",
       "      <td>2019</td>\n",
       "    </tr>\n",
       "    <tr>\n",
       "      <th>2</th>\n",
       "      <td>11-1000</td>\n",
       "      <td>Top Executives</td>\n",
       "      <td>minor</td>\n",
       "      <td>2658440</td>\n",
       "      <td>61.09</td>\n",
       "      <td>127070.0</td>\n",
       "      <td>21.01</td>\n",
       "      <td>31.69</td>\n",
       "      <td>49.63</td>\n",
       "      <td>78.83</td>\n",
       "      <td>115.46</td>\n",
       "      <td>43710.0</td>\n",
       "      <td>65910.0</td>\n",
       "      <td>103230.0</td>\n",
       "      <td>163970.00</td>\n",
       "      <td>240224.53</td>\n",
       "      <td>2019</td>\n",
       "    </tr>\n",
       "    <tr>\n",
       "      <th>3</th>\n",
       "      <td>11-1010</td>\n",
       "      <td>Chief Executives</td>\n",
       "      <td>broad</td>\n",
       "      <td>205890</td>\n",
       "      <td>93.20</td>\n",
       "      <td>193850.0</td>\n",
       "      <td>29.95</td>\n",
       "      <td>54.23</td>\n",
       "      <td>88.68</td>\n",
       "      <td>122.99</td>\n",
       "      <td>160.24</td>\n",
       "      <td>62290.0</td>\n",
       "      <td>112790.0</td>\n",
       "      <td>184460.0</td>\n",
       "      <td>255891.66</td>\n",
       "      <td>333318.00</td>\n",
       "      <td>2019</td>\n",
       "    </tr>\n",
       "    <tr>\n",
       "      <th>4</th>\n",
       "      <td>11-1011</td>\n",
       "      <td>Chief Executives</td>\n",
       "      <td>detailed</td>\n",
       "      <td>205890</td>\n",
       "      <td>93.20</td>\n",
       "      <td>193850.0</td>\n",
       "      <td>29.95</td>\n",
       "      <td>54.23</td>\n",
       "      <td>88.68</td>\n",
       "      <td>122.99</td>\n",
       "      <td>160.24</td>\n",
       "      <td>62290.0</td>\n",
       "      <td>112790.0</td>\n",
       "      <td>184460.0</td>\n",
       "      <td>255891.66</td>\n",
       "      <td>333318.00</td>\n",
       "      <td>2019</td>\n",
       "    </tr>\n",
       "    <tr>\n",
       "      <th>...</th>\n",
       "      <td>...</td>\n",
       "      <td>...</td>\n",
       "      <td>...</td>\n",
       "      <td>...</td>\n",
       "      <td>...</td>\n",
       "      <td>...</td>\n",
       "      <td>...</td>\n",
       "      <td>...</td>\n",
       "      <td>...</td>\n",
       "      <td>...</td>\n",
       "      <td>...</td>\n",
       "      <td>...</td>\n",
       "      <td>...</td>\n",
       "      <td>...</td>\n",
       "      <td>...</td>\n",
       "      <td>...</td>\n",
       "      <td>...</td>\n",
       "    </tr>\n",
       "    <tr>\n",
       "      <th>1398</th>\n",
       "      <td>53-7081</td>\n",
       "      <td>Refuse and Recyclable Material Collectors</td>\n",
       "      <td>detailed</td>\n",
       "      <td>139180</td>\n",
       "      <td>24.62</td>\n",
       "      <td>51210.0</td>\n",
       "      <td>15.29</td>\n",
       "      <td>18.43</td>\n",
       "      <td>23.24</td>\n",
       "      <td>29.33</td>\n",
       "      <td>36.16</td>\n",
       "      <td>31810.0</td>\n",
       "      <td>38330.0</td>\n",
       "      <td>48350.0</td>\n",
       "      <td>61010.00</td>\n",
       "      <td>75200.00</td>\n",
       "      <td>2024</td>\n",
       "    </tr>\n",
       "    <tr>\n",
       "      <th>1399</th>\n",
       "      <td>53-7120</td>\n",
       "      <td>Tank Car, Truck, and Ship Loaders</td>\n",
       "      <td>broad</td>\n",
       "      <td>10920</td>\n",
       "      <td>28.85</td>\n",
       "      <td>60010.0</td>\n",
       "      <td>18.39</td>\n",
       "      <td>22.72</td>\n",
       "      <td>27.92</td>\n",
       "      <td>34.25</td>\n",
       "      <td>42.36</td>\n",
       "      <td>38260.0</td>\n",
       "      <td>47260.0</td>\n",
       "      <td>58070.0</td>\n",
       "      <td>71230.00</td>\n",
       "      <td>88120.00</td>\n",
       "      <td>2024</td>\n",
       "    </tr>\n",
       "    <tr>\n",
       "      <th>1400</th>\n",
       "      <td>53-7121</td>\n",
       "      <td>Tank Car, Truck, and Ship Loaders</td>\n",
       "      <td>detailed</td>\n",
       "      <td>10920</td>\n",
       "      <td>28.85</td>\n",
       "      <td>60010.0</td>\n",
       "      <td>18.39</td>\n",
       "      <td>22.72</td>\n",
       "      <td>27.92</td>\n",
       "      <td>34.25</td>\n",
       "      <td>42.36</td>\n",
       "      <td>38260.0</td>\n",
       "      <td>47260.0</td>\n",
       "      <td>58070.0</td>\n",
       "      <td>71230.00</td>\n",
       "      <td>88120.00</td>\n",
       "      <td>2024</td>\n",
       "    </tr>\n",
       "    <tr>\n",
       "      <th>1401</th>\n",
       "      <td>53-7190</td>\n",
       "      <td>Miscellaneous Material Moving Workers</td>\n",
       "      <td>broad</td>\n",
       "      <td>25190</td>\n",
       "      <td>22.43</td>\n",
       "      <td>46650.0</td>\n",
       "      <td>16.00</td>\n",
       "      <td>17.06</td>\n",
       "      <td>20.04</td>\n",
       "      <td>24.45</td>\n",
       "      <td>31.18</td>\n",
       "      <td>33280.0</td>\n",
       "      <td>35470.0</td>\n",
       "      <td>41690.0</td>\n",
       "      <td>50850.00</td>\n",
       "      <td>64850.00</td>\n",
       "      <td>2024</td>\n",
       "    </tr>\n",
       "    <tr>\n",
       "      <th>1402</th>\n",
       "      <td>53-7199</td>\n",
       "      <td>Material Moving Workers, All Other</td>\n",
       "      <td>detailed</td>\n",
       "      <td>25190</td>\n",
       "      <td>22.43</td>\n",
       "      <td>46650.0</td>\n",
       "      <td>16.00</td>\n",
       "      <td>17.06</td>\n",
       "      <td>20.04</td>\n",
       "      <td>24.45</td>\n",
       "      <td>31.18</td>\n",
       "      <td>33280.0</td>\n",
       "      <td>35470.0</td>\n",
       "      <td>41690.0</td>\n",
       "      <td>50850.00</td>\n",
       "      <td>64850.00</td>\n",
       "      <td>2024</td>\n",
       "    </tr>\n",
       "  </tbody>\n",
       "</table>\n",
       "<p>8269 rows × 17 columns</p>\n",
       "</div>"
      ],
      "text/plain": [
       "     occupation_code                           occupation_title  \\\n",
       "0            00-0000                            All Occupations   \n",
       "1            11-0000                     Management Occupations   \n",
       "2            11-1000                             Top Executives   \n",
       "3            11-1010                           Chief Executives   \n",
       "4            11-1011                           Chief Executives   \n",
       "...              ...                                        ...   \n",
       "1398         53-7081  Refuse and Recyclable Material Collectors   \n",
       "1399         53-7120          Tank Car, Truck, and Ship Loaders   \n",
       "1400         53-7121          Tank Car, Truck, and Ship Loaders   \n",
       "1401         53-7190      Miscellaneous Material Moving Workers   \n",
       "1402         53-7199         Material Moving Workers, All Other   \n",
       "\n",
       "     occupation_level total_employment  hourly_mean  annual_mean  \\\n",
       "0               total        146875480        25.72      53490.0   \n",
       "1               major          8054120        58.88     122480.0   \n",
       "2               minor          2658440        61.09     127070.0   \n",
       "3               broad           205890        93.20     193850.0   \n",
       "4            detailed           205890        93.20     193850.0   \n",
       "...               ...              ...          ...          ...   \n",
       "1398         detailed           139180        24.62      51210.0   \n",
       "1399            broad            10920        28.85      60010.0   \n",
       "1400         detailed            10920        28.85      60010.0   \n",
       "1401            broad            25190        22.43      46650.0   \n",
       "1402         detailed            25190        22.43      46650.0   \n",
       "\n",
       "      hourly_percentile_10  hourly_percentile_25  hourly_percentile_50  \\\n",
       "0                    10.35                 13.02                 19.14   \n",
       "1                    24.03                 34.35                 50.80   \n",
       "2                    21.01                 31.69                 49.63   \n",
       "3                    29.95                 54.23                 88.68   \n",
       "4                    29.95                 54.23                 88.68   \n",
       "...                    ...                   ...                   ...   \n",
       "1398                 15.29                 18.43                 23.24   \n",
       "1399                 18.39                 22.72                 27.92   \n",
       "1400                 18.39                 22.72                 27.92   \n",
       "1401                 16.00                 17.06                 20.04   \n",
       "1402                 16.00                 17.06                 20.04   \n",
       "\n",
       "      hourly_percentile_75  hourly_percentile_90  annual_percentile_10  \\\n",
       "0                    30.88                 48.57               21530.0   \n",
       "1                    74.16                103.87               49990.0   \n",
       "2                    78.83                115.46               43710.0   \n",
       "3                   122.99                160.24               62290.0   \n",
       "4                   122.99                160.24               62290.0   \n",
       "...                    ...                   ...                   ...   \n",
       "1398                 29.33                 36.16               31810.0   \n",
       "1399                 34.25                 42.36               38260.0   \n",
       "1400                 34.25                 42.36               38260.0   \n",
       "1401                 24.45                 31.18               33280.0   \n",
       "1402                 24.45                 31.18               33280.0   \n",
       "\n",
       "      annual_percentile_25  annual_percentile_50  annual_percentile_75  \\\n",
       "0                  27080.0               39810.0              64240.00   \n",
       "1                  71460.0              105660.0             154260.00   \n",
       "2                  65910.0              103230.0             163970.00   \n",
       "3                 112790.0              184460.0             255891.66   \n",
       "4                 112790.0              184460.0             255891.66   \n",
       "...                    ...                   ...                   ...   \n",
       "1398               38330.0               48350.0              61010.00   \n",
       "1399               47260.0               58070.0              71230.00   \n",
       "1400               47260.0               58070.0              71230.00   \n",
       "1401               35470.0               41690.0              50850.00   \n",
       "1402               35470.0               41690.0              50850.00   \n",
       "\n",
       "      annual_percentile_90  year  \n",
       "0                101020.00  2019  \n",
       "1                216019.49  2019  \n",
       "2                240224.53  2019  \n",
       "3                333318.00  2019  \n",
       "4                333318.00  2019  \n",
       "...                    ...   ...  \n",
       "1398              75200.00  2024  \n",
       "1399              88120.00  2024  \n",
       "1400              88120.00  2024  \n",
       "1401              64850.00  2024  \n",
       "1402              64850.00  2024  \n",
       "\n",
       "[8269 rows x 17 columns]"
      ]
     },
     "execution_count": 341,
     "metadata": {},
     "output_type": "execute_result"
    }
   ],
   "source": [
    "df_consolidated "
   ]
  },
  {
   "cell_type": "code",
   "execution_count": 342,
   "id": "9b0084b4-4f22-4348-9fd4-99da6f3e4b55",
   "metadata": {},
   "outputs": [],
   "source": [
    "# only consider 3 top levels -- other levels are too detailed and contain thousands of options \n",
    "occupation_level_list = [\"major\", \"minor\"]\n",
    "\n",
    "df_final = df_consolidated.loc[df_consolidated[\"occupation_level\"].isin(occupation_level_list)]"
   ]
  },
  {
   "cell_type": "code",
   "execution_count": 343,
   "id": "eba06da8-ae37-461a-97b8-07e04efbb744",
   "metadata": {},
   "outputs": [
    {
     "data": {
      "text/html": [
       "<div>\n",
       "<style scoped>\n",
       "    .dataframe tbody tr th:only-of-type {\n",
       "        vertical-align: middle;\n",
       "    }\n",
       "\n",
       "    .dataframe tbody tr th {\n",
       "        vertical-align: top;\n",
       "    }\n",
       "\n",
       "    .dataframe thead th {\n",
       "        text-align: right;\n",
       "    }\n",
       "</style>\n",
       "<table border=\"1\" class=\"dataframe\">\n",
       "  <thead>\n",
       "    <tr style=\"text-align: right;\">\n",
       "      <th></th>\n",
       "      <th>occupation_code</th>\n",
       "      <th>occupation_title</th>\n",
       "      <th>occupation_level</th>\n",
       "      <th>total_employment</th>\n",
       "      <th>hourly_mean</th>\n",
       "      <th>annual_mean</th>\n",
       "      <th>hourly_percentile_10</th>\n",
       "      <th>hourly_percentile_25</th>\n",
       "      <th>hourly_percentile_50</th>\n",
       "      <th>hourly_percentile_75</th>\n",
       "      <th>hourly_percentile_90</th>\n",
       "      <th>annual_percentile_10</th>\n",
       "      <th>annual_percentile_25</th>\n",
       "      <th>annual_percentile_50</th>\n",
       "      <th>annual_percentile_75</th>\n",
       "      <th>annual_percentile_90</th>\n",
       "      <th>year</th>\n",
       "    </tr>\n",
       "  </thead>\n",
       "  <tbody>\n",
       "    <tr>\n",
       "      <th>1</th>\n",
       "      <td>11-0000</td>\n",
       "      <td>Management Occupations</td>\n",
       "      <td>major</td>\n",
       "      <td>8054120</td>\n",
       "      <td>58.88</td>\n",
       "      <td>122480.0</td>\n",
       "      <td>24.03</td>\n",
       "      <td>34.35</td>\n",
       "      <td>50.80</td>\n",
       "      <td>74.16</td>\n",
       "      <td>103.87</td>\n",
       "      <td>49990.0</td>\n",
       "      <td>71460.0</td>\n",
       "      <td>105660.0</td>\n",
       "      <td>154260.0</td>\n",
       "      <td>216019.49</td>\n",
       "      <td>2019</td>\n",
       "    </tr>\n",
       "    <tr>\n",
       "      <th>2</th>\n",
       "      <td>11-1000</td>\n",
       "      <td>Top Executives</td>\n",
       "      <td>minor</td>\n",
       "      <td>2658440</td>\n",
       "      <td>61.09</td>\n",
       "      <td>127070.0</td>\n",
       "      <td>21.01</td>\n",
       "      <td>31.69</td>\n",
       "      <td>49.63</td>\n",
       "      <td>78.83</td>\n",
       "      <td>115.46</td>\n",
       "      <td>43710.0</td>\n",
       "      <td>65910.0</td>\n",
       "      <td>103230.0</td>\n",
       "      <td>163970.0</td>\n",
       "      <td>240224.53</td>\n",
       "      <td>2019</td>\n",
       "    </tr>\n",
       "    <tr>\n",
       "      <th>9</th>\n",
       "      <td>11-2000</td>\n",
       "      <td>Advertising, Marketing, Promotions, Public Rel...</td>\n",
       "      <td>minor</td>\n",
       "      <td>770540</td>\n",
       "      <td>68.91</td>\n",
       "      <td>143330.0</td>\n",
       "      <td>30.74</td>\n",
       "      <td>42.97</td>\n",
       "      <td>61.96</td>\n",
       "      <td>86.06</td>\n",
       "      <td>115.96</td>\n",
       "      <td>63940.0</td>\n",
       "      <td>89380.0</td>\n",
       "      <td>128870.0</td>\n",
       "      <td>179010.0</td>\n",
       "      <td>241152.89</td>\n",
       "      <td>2019</td>\n",
       "    </tr>\n",
       "    <tr>\n",
       "      <th>17</th>\n",
       "      <td>11-3000</td>\n",
       "      <td>Operations Specialties Managers</td>\n",
       "      <td>minor</td>\n",
       "      <td>1996160</td>\n",
       "      <td>64.69</td>\n",
       "      <td>134550.0</td>\n",
       "      <td>31.99</td>\n",
       "      <td>42.33</td>\n",
       "      <td>58.15</td>\n",
       "      <td>78.39</td>\n",
       "      <td>105.80</td>\n",
       "      <td>66540.0</td>\n",
       "      <td>88050.0</td>\n",
       "      <td>120960.0</td>\n",
       "      <td>163050.0</td>\n",
       "      <td>220028.33</td>\n",
       "      <td>2019</td>\n",
       "    </tr>\n",
       "    <tr>\n",
       "      <th>36</th>\n",
       "      <td>11-9000</td>\n",
       "      <td>Other Management Occupations</td>\n",
       "      <td>minor</td>\n",
       "      <td>2628970</td>\n",
       "      <td>49.31</td>\n",
       "      <td>102560.0</td>\n",
       "      <td>21.43</td>\n",
       "      <td>30.17</td>\n",
       "      <td>43.90</td>\n",
       "      <td>61.69</td>\n",
       "      <td>82.13</td>\n",
       "      <td>44560.0</td>\n",
       "      <td>62760.0</td>\n",
       "      <td>91300.0</td>\n",
       "      <td>128310.0</td>\n",
       "      <td>170820.00</td>\n",
       "      <td>2019</td>\n",
       "    </tr>\n",
       "    <tr>\n",
       "      <th>...</th>\n",
       "      <td>...</td>\n",
       "      <td>...</td>\n",
       "      <td>...</td>\n",
       "      <td>...</td>\n",
       "      <td>...</td>\n",
       "      <td>...</td>\n",
       "      <td>...</td>\n",
       "      <td>...</td>\n",
       "      <td>...</td>\n",
       "      <td>...</td>\n",
       "      <td>...</td>\n",
       "      <td>...</td>\n",
       "      <td>...</td>\n",
       "      <td>...</td>\n",
       "      <td>...</td>\n",
       "      <td>...</td>\n",
       "      <td>...</td>\n",
       "    </tr>\n",
       "    <tr>\n",
       "      <th>1326</th>\n",
       "      <td>53-3000</td>\n",
       "      <td>Motor Vehicle Operators</td>\n",
       "      <td>minor</td>\n",
       "      <td>4328760</td>\n",
       "      <td>24.89</td>\n",
       "      <td>51770.0</td>\n",
       "      <td>14.82</td>\n",
       "      <td>18.58</td>\n",
       "      <td>23.40</td>\n",
       "      <td>29.49</td>\n",
       "      <td>36.63</td>\n",
       "      <td>30820.0</td>\n",
       "      <td>38650.0</td>\n",
       "      <td>48660.0</td>\n",
       "      <td>61330.0</td>\n",
       "      <td>76200.00</td>\n",
       "      <td>2024</td>\n",
       "    </tr>\n",
       "    <tr>\n",
       "      <th>1340</th>\n",
       "      <td>53-4000</td>\n",
       "      <td>Rail Transportation Workers</td>\n",
       "      <td>minor</td>\n",
       "      <td>101190</td>\n",
       "      <td>36.10</td>\n",
       "      <td>75090.0</td>\n",
       "      <td>24.73</td>\n",
       "      <td>30.15</td>\n",
       "      <td>36.53</td>\n",
       "      <td>39.65</td>\n",
       "      <td>47.24</td>\n",
       "      <td>51440.0</td>\n",
       "      <td>62720.0</td>\n",
       "      <td>75990.0</td>\n",
       "      <td>82460.0</td>\n",
       "      <td>98260.00</td>\n",
       "      <td>2024</td>\n",
       "    </tr>\n",
       "    <tr>\n",
       "      <th>1352</th>\n",
       "      <td>53-5000</td>\n",
       "      <td>Water Transportation Workers</td>\n",
       "      <td>minor</td>\n",
       "      <td>77710</td>\n",
       "      <td>38.54</td>\n",
       "      <td>80150.0</td>\n",
       "      <td>17.77</td>\n",
       "      <td>23.13</td>\n",
       "      <td>31.97</td>\n",
       "      <td>48.63</td>\n",
       "      <td>66.96</td>\n",
       "      <td>36960.0</td>\n",
       "      <td>48100.0</td>\n",
       "      <td>66490.0</td>\n",
       "      <td>101140.0</td>\n",
       "      <td>139270.00</td>\n",
       "      <td>2024</td>\n",
       "    </tr>\n",
       "    <tr>\n",
       "      <th>1360</th>\n",
       "      <td>53-6000</td>\n",
       "      <td>Other Transportation Workers</td>\n",
       "      <td>minor</td>\n",
       "      <td>330140</td>\n",
       "      <td>19.54</td>\n",
       "      <td>40640.0</td>\n",
       "      <td>13.36</td>\n",
       "      <td>15.00</td>\n",
       "      <td>17.34</td>\n",
       "      <td>20.54</td>\n",
       "      <td>27.60</td>\n",
       "      <td>27790.0</td>\n",
       "      <td>31200.0</td>\n",
       "      <td>36060.0</td>\n",
       "      <td>42730.0</td>\n",
       "      <td>57410.00</td>\n",
       "      <td>2024</td>\n",
       "    </tr>\n",
       "    <tr>\n",
       "      <th>1376</th>\n",
       "      <td>53-7000</td>\n",
       "      <td>Material Moving Workers</td>\n",
       "      <td>minor</td>\n",
       "      <td>7871860</td>\n",
       "      <td>19.76</td>\n",
       "      <td>41100.0</td>\n",
       "      <td>14.47</td>\n",
       "      <td>16.69</td>\n",
       "      <td>18.43</td>\n",
       "      <td>22.19</td>\n",
       "      <td>26.60</td>\n",
       "      <td>30100.0</td>\n",
       "      <td>34720.0</td>\n",
       "      <td>38340.0</td>\n",
       "      <td>46150.0</td>\n",
       "      <td>55320.00</td>\n",
       "      <td>2024</td>\n",
       "    </tr>\n",
       "  </tbody>\n",
       "</table>\n",
       "<p>692 rows × 17 columns</p>\n",
       "</div>"
      ],
      "text/plain": [
       "     occupation_code                                   occupation_title  \\\n",
       "1            11-0000                             Management Occupations   \n",
       "2            11-1000                                     Top Executives   \n",
       "9            11-2000  Advertising, Marketing, Promotions, Public Rel...   \n",
       "17           11-3000                    Operations Specialties Managers   \n",
       "36           11-9000                       Other Management Occupations   \n",
       "...              ...                                                ...   \n",
       "1326         53-3000                            Motor Vehicle Operators   \n",
       "1340         53-4000                        Rail Transportation Workers   \n",
       "1352         53-5000                       Water Transportation Workers   \n",
       "1360         53-6000                       Other Transportation Workers   \n",
       "1376         53-7000                            Material Moving Workers   \n",
       "\n",
       "     occupation_level total_employment  hourly_mean  annual_mean  \\\n",
       "1               major          8054120        58.88     122480.0   \n",
       "2               minor          2658440        61.09     127070.0   \n",
       "9               minor           770540        68.91     143330.0   \n",
       "17              minor          1996160        64.69     134550.0   \n",
       "36              minor          2628970        49.31     102560.0   \n",
       "...               ...              ...          ...          ...   \n",
       "1326            minor          4328760        24.89      51770.0   \n",
       "1340            minor           101190        36.10      75090.0   \n",
       "1352            minor            77710        38.54      80150.0   \n",
       "1360            minor           330140        19.54      40640.0   \n",
       "1376            minor          7871860        19.76      41100.0   \n",
       "\n",
       "      hourly_percentile_10  hourly_percentile_25  hourly_percentile_50  \\\n",
       "1                    24.03                 34.35                 50.80   \n",
       "2                    21.01                 31.69                 49.63   \n",
       "9                    30.74                 42.97                 61.96   \n",
       "17                   31.99                 42.33                 58.15   \n",
       "36                   21.43                 30.17                 43.90   \n",
       "...                    ...                   ...                   ...   \n",
       "1326                 14.82                 18.58                 23.40   \n",
       "1340                 24.73                 30.15                 36.53   \n",
       "1352                 17.77                 23.13                 31.97   \n",
       "1360                 13.36                 15.00                 17.34   \n",
       "1376                 14.47                 16.69                 18.43   \n",
       "\n",
       "      hourly_percentile_75  hourly_percentile_90  annual_percentile_10  \\\n",
       "1                    74.16                103.87               49990.0   \n",
       "2                    78.83                115.46               43710.0   \n",
       "9                    86.06                115.96               63940.0   \n",
       "17                   78.39                105.80               66540.0   \n",
       "36                   61.69                 82.13               44560.0   \n",
       "...                    ...                   ...                   ...   \n",
       "1326                 29.49                 36.63               30820.0   \n",
       "1340                 39.65                 47.24               51440.0   \n",
       "1352                 48.63                 66.96               36960.0   \n",
       "1360                 20.54                 27.60               27790.0   \n",
       "1376                 22.19                 26.60               30100.0   \n",
       "\n",
       "      annual_percentile_25  annual_percentile_50  annual_percentile_75  \\\n",
       "1                  71460.0              105660.0              154260.0   \n",
       "2                  65910.0              103230.0              163970.0   \n",
       "9                  89380.0              128870.0              179010.0   \n",
       "17                 88050.0              120960.0              163050.0   \n",
       "36                 62760.0               91300.0              128310.0   \n",
       "...                    ...                   ...                   ...   \n",
       "1326               38650.0               48660.0               61330.0   \n",
       "1340               62720.0               75990.0               82460.0   \n",
       "1352               48100.0               66490.0              101140.0   \n",
       "1360               31200.0               36060.0               42730.0   \n",
       "1376               34720.0               38340.0               46150.0   \n",
       "\n",
       "      annual_percentile_90  year  \n",
       "1                216019.49  2019  \n",
       "2                240224.53  2019  \n",
       "9                241152.89  2019  \n",
       "17               220028.33  2019  \n",
       "36               170820.00  2019  \n",
       "...                    ...   ...  \n",
       "1326              76200.00  2024  \n",
       "1340              98260.00  2024  \n",
       "1352             139270.00  2024  \n",
       "1360              57410.00  2024  \n",
       "1376              55320.00  2024  \n",
       "\n",
       "[692 rows x 17 columns]"
      ]
     },
     "execution_count": 343,
     "metadata": {},
     "output_type": "execute_result"
    }
   ],
   "source": [
    "df_final"
   ]
  },
  {
   "cell_type": "code",
   "execution_count": 344,
   "id": "5ba4db1d-afb8-4136-8c75-882fe0dbae56",
   "metadata": {},
   "outputs": [
    {
     "data": {
      "text/html": [
       "<div>\n",
       "<style scoped>\n",
       "    .dataframe tbody tr th:only-of-type {\n",
       "        vertical-align: middle;\n",
       "    }\n",
       "\n",
       "    .dataframe tbody tr th {\n",
       "        vertical-align: top;\n",
       "    }\n",
       "\n",
       "    .dataframe thead th {\n",
       "        text-align: right;\n",
       "    }\n",
       "</style>\n",
       "<table border=\"1\" class=\"dataframe\">\n",
       "  <thead>\n",
       "    <tr style=\"text-align: right;\">\n",
       "      <th></th>\n",
       "      <th>occupation_code</th>\n",
       "      <th>occupation_level</th>\n",
       "      <th>occupation_title</th>\n",
       "    </tr>\n",
       "  </thead>\n",
       "  <tbody>\n",
       "    <tr>\n",
       "      <th>0</th>\n",
       "      <td>11-0000</td>\n",
       "      <td>major</td>\n",
       "      <td>Management Occupations</td>\n",
       "    </tr>\n",
       "    <tr>\n",
       "      <th>1</th>\n",
       "      <td>11-1000</td>\n",
       "      <td>minor</td>\n",
       "      <td>Top Executives</td>\n",
       "    </tr>\n",
       "    <tr>\n",
       "      <th>2</th>\n",
       "      <td>11-2000</td>\n",
       "      <td>minor</td>\n",
       "      <td>Advertising, Marketing, Promotions, Public Rel...</td>\n",
       "    </tr>\n",
       "    <tr>\n",
       "      <th>3</th>\n",
       "      <td>11-3000</td>\n",
       "      <td>minor</td>\n",
       "      <td>Operations Specialties Managers</td>\n",
       "    </tr>\n",
       "    <tr>\n",
       "      <th>4</th>\n",
       "      <td>11-9000</td>\n",
       "      <td>minor</td>\n",
       "      <td>Other Management Occupations</td>\n",
       "    </tr>\n",
       "    <tr>\n",
       "      <th>...</th>\n",
       "      <td>...</td>\n",
       "      <td>...</td>\n",
       "      <td>...</td>\n",
       "    </tr>\n",
       "    <tr>\n",
       "      <th>111</th>\n",
       "      <td>53-5000</td>\n",
       "      <td>minor</td>\n",
       "      <td>Water Transportation Workers</td>\n",
       "    </tr>\n",
       "    <tr>\n",
       "      <th>112</th>\n",
       "      <td>53-6000</td>\n",
       "      <td>minor</td>\n",
       "      <td>Other Transportation Workers</td>\n",
       "    </tr>\n",
       "    <tr>\n",
       "      <th>113</th>\n",
       "      <td>53-7000</td>\n",
       "      <td>minor</td>\n",
       "      <td>Material Moving Workers</td>\n",
       "    </tr>\n",
       "    <tr>\n",
       "      <th>114</th>\n",
       "      <td>39-4000</td>\n",
       "      <td>minor</td>\n",
       "      <td>Funeral Service Workers</td>\n",
       "    </tr>\n",
       "    <tr>\n",
       "      <th>115</th>\n",
       "      <td>39-9000</td>\n",
       "      <td>minor</td>\n",
       "      <td>Other Personal Care and Service Workers</td>\n",
       "    </tr>\n",
       "  </tbody>\n",
       "</table>\n",
       "<p>116 rows × 3 columns</p>\n",
       "</div>"
      ],
      "text/plain": [
       "    occupation_code occupation_level  \\\n",
       "0           11-0000            major   \n",
       "1           11-1000            minor   \n",
       "2           11-2000            minor   \n",
       "3           11-3000            minor   \n",
       "4           11-9000            minor   \n",
       "..              ...              ...   \n",
       "111         53-5000            minor   \n",
       "112         53-6000            minor   \n",
       "113         53-7000            minor   \n",
       "114         39-4000            minor   \n",
       "115         39-9000            minor   \n",
       "\n",
       "                                      occupation_title  \n",
       "0                               Management Occupations  \n",
       "1                                       Top Executives  \n",
       "2    Advertising, Marketing, Promotions, Public Rel...  \n",
       "3                      Operations Specialties Managers  \n",
       "4                         Other Management Occupations  \n",
       "..                                                 ...  \n",
       "111                       Water Transportation Workers  \n",
       "112                       Other Transportation Workers  \n",
       "113                            Material Moving Workers  \n",
       "114                            Funeral Service Workers  \n",
       "115            Other Personal Care and Service Workers  \n",
       "\n",
       "[116 rows x 3 columns]"
      ]
     },
     "execution_count": 344,
     "metadata": {},
     "output_type": "execute_result"
    }
   ],
   "source": [
    "# table to store the final ocuppation codes and descriptions\n",
    "df_final_codes = df_final[['occupation_code', 'occupation_level', 'occupation_title']]\n",
    "df_final_codes = df_final_codes.drop_duplicates()\n",
    "df_final_codes = df_final_codes.reset_index(drop=True)\n",
    "\n",
    "df_final_codes"
   ]
  },
  {
   "cell_type": "code",
   "execution_count": 350,
   "id": "4c7d0aba-83f0-4b39-9919-3b57b3a15a2c",
   "metadata": {},
   "outputs": [
    {
     "data": {
      "text/html": [
       "<div>\n",
       "<style scoped>\n",
       "    .dataframe tbody tr th:only-of-type {\n",
       "        vertical-align: middle;\n",
       "    }\n",
       "\n",
       "    .dataframe tbody tr th {\n",
       "        vertical-align: top;\n",
       "    }\n",
       "\n",
       "    .dataframe thead th {\n",
       "        text-align: right;\n",
       "    }\n",
       "</style>\n",
       "<table border=\"1\" class=\"dataframe\">\n",
       "  <thead>\n",
       "    <tr style=\"text-align: right;\">\n",
       "      <th></th>\n",
       "      <th>occupation_code</th>\n",
       "      <th>total_employment</th>\n",
       "      <th>annual_mean</th>\n",
       "      <th>annual_percentile_10</th>\n",
       "      <th>annual_percentile_25</th>\n",
       "      <th>annual_percentile_50</th>\n",
       "      <th>annual_percentile_75</th>\n",
       "      <th>annual_percentile_90</th>\n",
       "    </tr>\n",
       "  </thead>\n",
       "  <tbody>\n",
       "    <tr>\n",
       "      <th>1</th>\n",
       "      <td>11-0000</td>\n",
       "      <td>8054120</td>\n",
       "      <td>122480.0</td>\n",
       "      <td>49990.0</td>\n",
       "      <td>71460.0</td>\n",
       "      <td>105660.0</td>\n",
       "      <td>154260.0</td>\n",
       "      <td>216019.49</td>\n",
       "    </tr>\n",
       "    <tr>\n",
       "      <th>2</th>\n",
       "      <td>11-1000</td>\n",
       "      <td>2658440</td>\n",
       "      <td>127070.0</td>\n",
       "      <td>43710.0</td>\n",
       "      <td>65910.0</td>\n",
       "      <td>103230.0</td>\n",
       "      <td>163970.0</td>\n",
       "      <td>240224.53</td>\n",
       "    </tr>\n",
       "    <tr>\n",
       "      <th>9</th>\n",
       "      <td>11-2000</td>\n",
       "      <td>770540</td>\n",
       "      <td>143330.0</td>\n",
       "      <td>63940.0</td>\n",
       "      <td>89380.0</td>\n",
       "      <td>128870.0</td>\n",
       "      <td>179010.0</td>\n",
       "      <td>241152.89</td>\n",
       "    </tr>\n",
       "    <tr>\n",
       "      <th>17</th>\n",
       "      <td>11-3000</td>\n",
       "      <td>1996160</td>\n",
       "      <td>134550.0</td>\n",
       "      <td>66540.0</td>\n",
       "      <td>88050.0</td>\n",
       "      <td>120960.0</td>\n",
       "      <td>163050.0</td>\n",
       "      <td>220028.33</td>\n",
       "    </tr>\n",
       "    <tr>\n",
       "      <th>36</th>\n",
       "      <td>11-9000</td>\n",
       "      <td>2628970</td>\n",
       "      <td>102560.0</td>\n",
       "      <td>44560.0</td>\n",
       "      <td>62760.0</td>\n",
       "      <td>91300.0</td>\n",
       "      <td>128310.0</td>\n",
       "      <td>170820.00</td>\n",
       "    </tr>\n",
       "    <tr>\n",
       "      <th>...</th>\n",
       "      <td>...</td>\n",
       "      <td>...</td>\n",
       "      <td>...</td>\n",
       "      <td>...</td>\n",
       "      <td>...</td>\n",
       "      <td>...</td>\n",
       "      <td>...</td>\n",
       "      <td>...</td>\n",
       "    </tr>\n",
       "    <tr>\n",
       "      <th>1326</th>\n",
       "      <td>53-3000</td>\n",
       "      <td>4328760</td>\n",
       "      <td>51770.0</td>\n",
       "      <td>30820.0</td>\n",
       "      <td>38650.0</td>\n",
       "      <td>48660.0</td>\n",
       "      <td>61330.0</td>\n",
       "      <td>76200.00</td>\n",
       "    </tr>\n",
       "    <tr>\n",
       "      <th>1340</th>\n",
       "      <td>53-4000</td>\n",
       "      <td>101190</td>\n",
       "      <td>75090.0</td>\n",
       "      <td>51440.0</td>\n",
       "      <td>62720.0</td>\n",
       "      <td>75990.0</td>\n",
       "      <td>82460.0</td>\n",
       "      <td>98260.00</td>\n",
       "    </tr>\n",
       "    <tr>\n",
       "      <th>1352</th>\n",
       "      <td>53-5000</td>\n",
       "      <td>77710</td>\n",
       "      <td>80150.0</td>\n",
       "      <td>36960.0</td>\n",
       "      <td>48100.0</td>\n",
       "      <td>66490.0</td>\n",
       "      <td>101140.0</td>\n",
       "      <td>139270.00</td>\n",
       "    </tr>\n",
       "    <tr>\n",
       "      <th>1360</th>\n",
       "      <td>53-6000</td>\n",
       "      <td>330140</td>\n",
       "      <td>40640.0</td>\n",
       "      <td>27790.0</td>\n",
       "      <td>31200.0</td>\n",
       "      <td>36060.0</td>\n",
       "      <td>42730.0</td>\n",
       "      <td>57410.00</td>\n",
       "    </tr>\n",
       "    <tr>\n",
       "      <th>1376</th>\n",
       "      <td>53-7000</td>\n",
       "      <td>7871860</td>\n",
       "      <td>41100.0</td>\n",
       "      <td>30100.0</td>\n",
       "      <td>34720.0</td>\n",
       "      <td>38340.0</td>\n",
       "      <td>46150.0</td>\n",
       "      <td>55320.00</td>\n",
       "    </tr>\n",
       "  </tbody>\n",
       "</table>\n",
       "<p>692 rows × 8 columns</p>\n",
       "</div>"
      ],
      "text/plain": [
       "     occupation_code total_employment  annual_mean  annual_percentile_10  \\\n",
       "1            11-0000          8054120     122480.0               49990.0   \n",
       "2            11-1000          2658440     127070.0               43710.0   \n",
       "9            11-2000           770540     143330.0               63940.0   \n",
       "17           11-3000          1996160     134550.0               66540.0   \n",
       "36           11-9000          2628970     102560.0               44560.0   \n",
       "...              ...              ...          ...                   ...   \n",
       "1326         53-3000          4328760      51770.0               30820.0   \n",
       "1340         53-4000           101190      75090.0               51440.0   \n",
       "1352         53-5000            77710      80150.0               36960.0   \n",
       "1360         53-6000           330140      40640.0               27790.0   \n",
       "1376         53-7000          7871860      41100.0               30100.0   \n",
       "\n",
       "      annual_percentile_25  annual_percentile_50  annual_percentile_75  \\\n",
       "1                  71460.0              105660.0              154260.0   \n",
       "2                  65910.0              103230.0              163970.0   \n",
       "9                  89380.0              128870.0              179010.0   \n",
       "17                 88050.0              120960.0              163050.0   \n",
       "36                 62760.0               91300.0              128310.0   \n",
       "...                    ...                   ...                   ...   \n",
       "1326               38650.0               48660.0               61330.0   \n",
       "1340               62720.0               75990.0               82460.0   \n",
       "1352               48100.0               66490.0              101140.0   \n",
       "1360               31200.0               36060.0               42730.0   \n",
       "1376               34720.0               38340.0               46150.0   \n",
       "\n",
       "      annual_percentile_90  \n",
       "1                216019.49  \n",
       "2                240224.53  \n",
       "9                241152.89  \n",
       "17               220028.33  \n",
       "36               170820.00  \n",
       "...                    ...  \n",
       "1326              76200.00  \n",
       "1340              98260.00  \n",
       "1352             139270.00  \n",
       "1360              57410.00  \n",
       "1376              55320.00  \n",
       "\n",
       "[692 rows x 8 columns]"
      ]
     },
     "execution_count": 350,
     "metadata": {},
     "output_type": "execute_result"
    }
   ],
   "source": [
    "# only consider anual data columns\n",
    "data_columns = [\"total_employment\"] + [column for column in df_final.columns if \"annual\" in column]\n",
    "\n",
    "df_data_aux = df_final[[\"occupation_code\"] + data_columns] # add occupation_code to join with description\n",
    "df_data_aux"
   ]
  },
  {
   "cell_type": "code",
   "execution_count": 351,
   "id": "1e1fcee1-4d9a-4022-9515-96d319abda49",
   "metadata": {},
   "outputs": [],
   "source": [
    "df_final_data = pd.DataFrame()\n",
    "\n",
    "for column in data_columns:\n",
    "    df_pivoted = df_final.pivot_table(index=\"year\", columns=\"occupation_code\", values=column)\n",
    "    \n",
    "    imputer = IterativeImputer(estimator=BayesianRidge(), random_state=0)\n",
    "        \n",
    "    imputed_data = imputer.fit_transform(df_pivoted)\n",
    "    df_imputed = pd.DataFrame(imputed_data, columns=df_pivoted.columns, index=df_pivoted.index)\n",
    "    \n",
    "    df_to_join = df_imputed.melt(value_name=column, ignore_index=False)\n",
    "    df_to_join = df_to_join.reset_index()\n",
    "    df_to_join = df_to_join[['occupation_code', 'year', column]]\n",
    "\n",
    "    if df_final_data.empty:\n",
    "        df_final_data = df_to_join.copy()\n",
    "    else:\n",
    "        df_final_data = pd.merge(df_final_data, df_to_join, on=[\"occupation_code\", \"year\"])"
   ]
  },
  {
   "cell_type": "code",
   "execution_count": 352,
   "id": "3a49c606-66e7-4817-b713-58bd38a4468d",
   "metadata": {},
   "outputs": [
    {
     "data": {
      "text/html": [
       "<div>\n",
       "<style scoped>\n",
       "    .dataframe tbody tr th:only-of-type {\n",
       "        vertical-align: middle;\n",
       "    }\n",
       "\n",
       "    .dataframe tbody tr th {\n",
       "        vertical-align: top;\n",
       "    }\n",
       "\n",
       "    .dataframe thead th {\n",
       "        text-align: right;\n",
       "    }\n",
       "</style>\n",
       "<table border=\"1\" class=\"dataframe\">\n",
       "  <thead>\n",
       "    <tr style=\"text-align: right;\">\n",
       "      <th></th>\n",
       "      <th>occupation_code</th>\n",
       "      <th>year</th>\n",
       "      <th>total_employment</th>\n",
       "      <th>annual_mean</th>\n",
       "      <th>annual_percentile_10</th>\n",
       "      <th>annual_percentile_25</th>\n",
       "      <th>annual_percentile_50</th>\n",
       "      <th>annual_percentile_75</th>\n",
       "      <th>annual_percentile_90</th>\n",
       "    </tr>\n",
       "  </thead>\n",
       "  <tbody>\n",
       "    <tr>\n",
       "      <th>0</th>\n",
       "      <td>11-0000</td>\n",
       "      <td>2019</td>\n",
       "      <td>8054120.0</td>\n",
       "      <td>122480.0</td>\n",
       "      <td>49990.0</td>\n",
       "      <td>71460.0</td>\n",
       "      <td>105660.0</td>\n",
       "      <td>154260.0</td>\n",
       "      <td>216019.49</td>\n",
       "    </tr>\n",
       "    <tr>\n",
       "      <th>1</th>\n",
       "      <td>11-0000</td>\n",
       "      <td>2020</td>\n",
       "      <td>7947300.0</td>\n",
       "      <td>126480.0</td>\n",
       "      <td>51670.0</td>\n",
       "      <td>74250.0</td>\n",
       "      <td>109760.0</td>\n",
       "      <td>159550.0</td>\n",
       "      <td>222354.95</td>\n",
       "    </tr>\n",
       "    <tr>\n",
       "      <th>2</th>\n",
       "      <td>11-0000</td>\n",
       "      <td>2021</td>\n",
       "      <td>8909910.0</td>\n",
       "      <td>123370.0</td>\n",
       "      <td>47860.0</td>\n",
       "      <td>74710.0</td>\n",
       "      <td>102450.0</td>\n",
       "      <td>160960.0</td>\n",
       "      <td>219495.78</td>\n",
       "    </tr>\n",
       "    <tr>\n",
       "      <th>3</th>\n",
       "      <td>11-0000</td>\n",
       "      <td>2022</td>\n",
       "      <td>9860740.0</td>\n",
       "      <td>131200.0</td>\n",
       "      <td>50290.0</td>\n",
       "      <td>75350.0</td>\n",
       "      <td>107360.0</td>\n",
       "      <td>163710.0</td>\n",
       "      <td>220550.00</td>\n",
       "    </tr>\n",
       "    <tr>\n",
       "      <th>4</th>\n",
       "      <td>11-0000</td>\n",
       "      <td>2023</td>\n",
       "      <td>10495770.0</td>\n",
       "      <td>137750.0</td>\n",
       "      <td>54550.0</td>\n",
       "      <td>78330.0</td>\n",
       "      <td>116880.0</td>\n",
       "      <td>169090.0</td>\n",
       "      <td>231620.00</td>\n",
       "    </tr>\n",
       "    <tr>\n",
       "      <th>...</th>\n",
       "      <td>...</td>\n",
       "      <td>...</td>\n",
       "      <td>...</td>\n",
       "      <td>...</td>\n",
       "      <td>...</td>\n",
       "      <td>...</td>\n",
       "      <td>...</td>\n",
       "      <td>...</td>\n",
       "      <td>...</td>\n",
       "    </tr>\n",
       "    <tr>\n",
       "      <th>691</th>\n",
       "      <td>53-7000</td>\n",
       "      <td>2020</td>\n",
       "      <td>6921900.0</td>\n",
       "      <td>33290.0</td>\n",
       "      <td>22110.0</td>\n",
       "      <td>25960.0</td>\n",
       "      <td>30720.0</td>\n",
       "      <td>38330.0</td>\n",
       "      <td>48460.00</td>\n",
       "    </tr>\n",
       "    <tr>\n",
       "      <th>692</th>\n",
       "      <td>53-7000</td>\n",
       "      <td>2021</td>\n",
       "      <td>7203320.0</td>\n",
       "      <td>34900.0</td>\n",
       "      <td>23570.0</td>\n",
       "      <td>28880.0</td>\n",
       "      <td>31010.0</td>\n",
       "      <td>38080.0</td>\n",
       "      <td>47670.00</td>\n",
       "    </tr>\n",
       "    <tr>\n",
       "      <th>693</th>\n",
       "      <td>53-7000</td>\n",
       "      <td>2022</td>\n",
       "      <td>7896560.0</td>\n",
       "      <td>37270.0</td>\n",
       "      <td>26780.0</td>\n",
       "      <td>30410.0</td>\n",
       "      <td>35670.0</td>\n",
       "      <td>41640.0</td>\n",
       "      <td>49210.00</td>\n",
       "    </tr>\n",
       "    <tr>\n",
       "      <th>694</th>\n",
       "      <td>53-7000</td>\n",
       "      <td>2023</td>\n",
       "      <td>7989980.0</td>\n",
       "      <td>39620.0</td>\n",
       "      <td>29140.0</td>\n",
       "      <td>33200.0</td>\n",
       "      <td>37290.0</td>\n",
       "      <td>44710.0</td>\n",
       "      <td>51860.00</td>\n",
       "    </tr>\n",
       "    <tr>\n",
       "      <th>695</th>\n",
       "      <td>53-7000</td>\n",
       "      <td>2024</td>\n",
       "      <td>7871860.0</td>\n",
       "      <td>41100.0</td>\n",
       "      <td>30100.0</td>\n",
       "      <td>34720.0</td>\n",
       "      <td>38340.0</td>\n",
       "      <td>46150.0</td>\n",
       "      <td>55320.00</td>\n",
       "    </tr>\n",
       "  </tbody>\n",
       "</table>\n",
       "<p>696 rows × 9 columns</p>\n",
       "</div>"
      ],
      "text/plain": [
       "    occupation_code  year  total_employment  annual_mean  \\\n",
       "0           11-0000  2019         8054120.0     122480.0   \n",
       "1           11-0000  2020         7947300.0     126480.0   \n",
       "2           11-0000  2021         8909910.0     123370.0   \n",
       "3           11-0000  2022         9860740.0     131200.0   \n",
       "4           11-0000  2023        10495770.0     137750.0   \n",
       "..              ...   ...               ...          ...   \n",
       "691         53-7000  2020         6921900.0      33290.0   \n",
       "692         53-7000  2021         7203320.0      34900.0   \n",
       "693         53-7000  2022         7896560.0      37270.0   \n",
       "694         53-7000  2023         7989980.0      39620.0   \n",
       "695         53-7000  2024         7871860.0      41100.0   \n",
       "\n",
       "     annual_percentile_10  annual_percentile_25  annual_percentile_50  \\\n",
       "0                 49990.0               71460.0              105660.0   \n",
       "1                 51670.0               74250.0              109760.0   \n",
       "2                 47860.0               74710.0              102450.0   \n",
       "3                 50290.0               75350.0              107360.0   \n",
       "4                 54550.0               78330.0              116880.0   \n",
       "..                    ...                   ...                   ...   \n",
       "691               22110.0               25960.0               30720.0   \n",
       "692               23570.0               28880.0               31010.0   \n",
       "693               26780.0               30410.0               35670.0   \n",
       "694               29140.0               33200.0               37290.0   \n",
       "695               30100.0               34720.0               38340.0   \n",
       "\n",
       "     annual_percentile_75  annual_percentile_90  \n",
       "0                154260.0             216019.49  \n",
       "1                159550.0             222354.95  \n",
       "2                160960.0             219495.78  \n",
       "3                163710.0             220550.00  \n",
       "4                169090.0             231620.00  \n",
       "..                    ...                   ...  \n",
       "691               38330.0              48460.00  \n",
       "692               38080.0              47670.00  \n",
       "693               41640.0              49210.00  \n",
       "694               44710.0              51860.00  \n",
       "695               46150.0              55320.00  \n",
       "\n",
       "[696 rows x 9 columns]"
      ]
     },
     "execution_count": 352,
     "metadata": {},
     "output_type": "execute_result"
    }
   ],
   "source": [
    "df_final_data"
   ]
  },
  {
   "cell_type": "code",
   "execution_count": 372,
   "id": "cdf462e4-2a84-4039-a5ec-2211a383bfad",
   "metadata": {},
   "outputs": [
    {
     "data": {
      "text/html": [
       "<div>\n",
       "<style scoped>\n",
       "    .dataframe tbody tr th:only-of-type {\n",
       "        vertical-align: middle;\n",
       "    }\n",
       "\n",
       "    .dataframe tbody tr th {\n",
       "        vertical-align: top;\n",
       "    }\n",
       "\n",
       "    .dataframe thead th {\n",
       "        text-align: right;\n",
       "    }\n",
       "</style>\n",
       "<table border=\"1\" class=\"dataframe\">\n",
       "  <thead>\n",
       "    <tr style=\"text-align: right;\">\n",
       "      <th></th>\n",
       "      <th>occupation_code</th>\n",
       "      <th>year</th>\n",
       "      <th>total_employment</th>\n",
       "      <th>annual_mean</th>\n",
       "      <th>annual_percentile_10</th>\n",
       "      <th>annual_percentile_25</th>\n",
       "      <th>annual_percentile_50</th>\n",
       "      <th>annual_percentile_75</th>\n",
       "      <th>annual_percentile_90</th>\n",
       "      <th>occupation_level</th>\n",
       "      <th>occupation_title</th>\n",
       "      <th>occupation_code_group</th>\n",
       "    </tr>\n",
       "  </thead>\n",
       "  <tbody>\n",
       "    <tr>\n",
       "      <th>0</th>\n",
       "      <td>11-0000</td>\n",
       "      <td>2019</td>\n",
       "      <td>8054120.0</td>\n",
       "      <td>122480.0</td>\n",
       "      <td>49990.0</td>\n",
       "      <td>71460.0</td>\n",
       "      <td>105660.0</td>\n",
       "      <td>154260.0</td>\n",
       "      <td>216019.49</td>\n",
       "      <td>major</td>\n",
       "      <td>Management Occupations</td>\n",
       "      <td>11</td>\n",
       "    </tr>\n",
       "    <tr>\n",
       "      <th>1</th>\n",
       "      <td>11-0000</td>\n",
       "      <td>2020</td>\n",
       "      <td>7947300.0</td>\n",
       "      <td>126480.0</td>\n",
       "      <td>51670.0</td>\n",
       "      <td>74250.0</td>\n",
       "      <td>109760.0</td>\n",
       "      <td>159550.0</td>\n",
       "      <td>222354.95</td>\n",
       "      <td>major</td>\n",
       "      <td>Management Occupations</td>\n",
       "      <td>11</td>\n",
       "    </tr>\n",
       "    <tr>\n",
       "      <th>2</th>\n",
       "      <td>11-0000</td>\n",
       "      <td>2021</td>\n",
       "      <td>8909910.0</td>\n",
       "      <td>123370.0</td>\n",
       "      <td>47860.0</td>\n",
       "      <td>74710.0</td>\n",
       "      <td>102450.0</td>\n",
       "      <td>160960.0</td>\n",
       "      <td>219495.78</td>\n",
       "      <td>major</td>\n",
       "      <td>Management Occupations</td>\n",
       "      <td>11</td>\n",
       "    </tr>\n",
       "    <tr>\n",
       "      <th>3</th>\n",
       "      <td>11-0000</td>\n",
       "      <td>2022</td>\n",
       "      <td>9860740.0</td>\n",
       "      <td>131200.0</td>\n",
       "      <td>50290.0</td>\n",
       "      <td>75350.0</td>\n",
       "      <td>107360.0</td>\n",
       "      <td>163710.0</td>\n",
       "      <td>220550.00</td>\n",
       "      <td>major</td>\n",
       "      <td>Management Occupations</td>\n",
       "      <td>11</td>\n",
       "    </tr>\n",
       "    <tr>\n",
       "      <th>4</th>\n",
       "      <td>11-0000</td>\n",
       "      <td>2023</td>\n",
       "      <td>10495770.0</td>\n",
       "      <td>137750.0</td>\n",
       "      <td>54550.0</td>\n",
       "      <td>78330.0</td>\n",
       "      <td>116880.0</td>\n",
       "      <td>169090.0</td>\n",
       "      <td>231620.00</td>\n",
       "      <td>major</td>\n",
       "      <td>Management Occupations</td>\n",
       "      <td>11</td>\n",
       "    </tr>\n",
       "    <tr>\n",
       "      <th>...</th>\n",
       "      <td>...</td>\n",
       "      <td>...</td>\n",
       "      <td>...</td>\n",
       "      <td>...</td>\n",
       "      <td>...</td>\n",
       "      <td>...</td>\n",
       "      <td>...</td>\n",
       "      <td>...</td>\n",
       "      <td>...</td>\n",
       "      <td>...</td>\n",
       "      <td>...</td>\n",
       "      <td>...</td>\n",
       "    </tr>\n",
       "    <tr>\n",
       "      <th>691</th>\n",
       "      <td>53-7000</td>\n",
       "      <td>2020</td>\n",
       "      <td>6921900.0</td>\n",
       "      <td>33290.0</td>\n",
       "      <td>22110.0</td>\n",
       "      <td>25960.0</td>\n",
       "      <td>30720.0</td>\n",
       "      <td>38330.0</td>\n",
       "      <td>48460.00</td>\n",
       "      <td>minor</td>\n",
       "      <td>Material Moving Workers</td>\n",
       "      <td>53</td>\n",
       "    </tr>\n",
       "    <tr>\n",
       "      <th>692</th>\n",
       "      <td>53-7000</td>\n",
       "      <td>2021</td>\n",
       "      <td>7203320.0</td>\n",
       "      <td>34900.0</td>\n",
       "      <td>23570.0</td>\n",
       "      <td>28880.0</td>\n",
       "      <td>31010.0</td>\n",
       "      <td>38080.0</td>\n",
       "      <td>47670.00</td>\n",
       "      <td>minor</td>\n",
       "      <td>Material Moving Workers</td>\n",
       "      <td>53</td>\n",
       "    </tr>\n",
       "    <tr>\n",
       "      <th>693</th>\n",
       "      <td>53-7000</td>\n",
       "      <td>2022</td>\n",
       "      <td>7896560.0</td>\n",
       "      <td>37270.0</td>\n",
       "      <td>26780.0</td>\n",
       "      <td>30410.0</td>\n",
       "      <td>35670.0</td>\n",
       "      <td>41640.0</td>\n",
       "      <td>49210.00</td>\n",
       "      <td>minor</td>\n",
       "      <td>Material Moving Workers</td>\n",
       "      <td>53</td>\n",
       "    </tr>\n",
       "    <tr>\n",
       "      <th>694</th>\n",
       "      <td>53-7000</td>\n",
       "      <td>2023</td>\n",
       "      <td>7989980.0</td>\n",
       "      <td>39620.0</td>\n",
       "      <td>29140.0</td>\n",
       "      <td>33200.0</td>\n",
       "      <td>37290.0</td>\n",
       "      <td>44710.0</td>\n",
       "      <td>51860.00</td>\n",
       "      <td>minor</td>\n",
       "      <td>Material Moving Workers</td>\n",
       "      <td>53</td>\n",
       "    </tr>\n",
       "    <tr>\n",
       "      <th>695</th>\n",
       "      <td>53-7000</td>\n",
       "      <td>2024</td>\n",
       "      <td>7871860.0</td>\n",
       "      <td>41100.0</td>\n",
       "      <td>30100.0</td>\n",
       "      <td>34720.0</td>\n",
       "      <td>38340.0</td>\n",
       "      <td>46150.0</td>\n",
       "      <td>55320.00</td>\n",
       "      <td>minor</td>\n",
       "      <td>Material Moving Workers</td>\n",
       "      <td>53</td>\n",
       "    </tr>\n",
       "  </tbody>\n",
       "</table>\n",
       "<p>696 rows × 12 columns</p>\n",
       "</div>"
      ],
      "text/plain": [
       "    occupation_code  year  total_employment  annual_mean  \\\n",
       "0           11-0000  2019         8054120.0     122480.0   \n",
       "1           11-0000  2020         7947300.0     126480.0   \n",
       "2           11-0000  2021         8909910.0     123370.0   \n",
       "3           11-0000  2022         9860740.0     131200.0   \n",
       "4           11-0000  2023        10495770.0     137750.0   \n",
       "..              ...   ...               ...          ...   \n",
       "691         53-7000  2020         6921900.0      33290.0   \n",
       "692         53-7000  2021         7203320.0      34900.0   \n",
       "693         53-7000  2022         7896560.0      37270.0   \n",
       "694         53-7000  2023         7989980.0      39620.0   \n",
       "695         53-7000  2024         7871860.0      41100.0   \n",
       "\n",
       "     annual_percentile_10  annual_percentile_25  annual_percentile_50  \\\n",
       "0                 49990.0               71460.0              105660.0   \n",
       "1                 51670.0               74250.0              109760.0   \n",
       "2                 47860.0               74710.0              102450.0   \n",
       "3                 50290.0               75350.0              107360.0   \n",
       "4                 54550.0               78330.0              116880.0   \n",
       "..                    ...                   ...                   ...   \n",
       "691               22110.0               25960.0               30720.0   \n",
       "692               23570.0               28880.0               31010.0   \n",
       "693               26780.0               30410.0               35670.0   \n",
       "694               29140.0               33200.0               37290.0   \n",
       "695               30100.0               34720.0               38340.0   \n",
       "\n",
       "     annual_percentile_75  annual_percentile_90 occupation_level  \\\n",
       "0                154260.0             216019.49            major   \n",
       "1                159550.0             222354.95            major   \n",
       "2                160960.0             219495.78            major   \n",
       "3                163710.0             220550.00            major   \n",
       "4                169090.0             231620.00            major   \n",
       "..                    ...                   ...              ...   \n",
       "691               38330.0              48460.00            minor   \n",
       "692               38080.0              47670.00            minor   \n",
       "693               41640.0              49210.00            minor   \n",
       "694               44710.0              51860.00            minor   \n",
       "695               46150.0              55320.00            minor   \n",
       "\n",
       "            occupation_title occupation_code_group  \n",
       "0     Management Occupations                    11  \n",
       "1     Management Occupations                    11  \n",
       "2     Management Occupations                    11  \n",
       "3     Management Occupations                    11  \n",
       "4     Management Occupations                    11  \n",
       "..                       ...                   ...  \n",
       "691  Material Moving Workers                    53  \n",
       "692  Material Moving Workers                    53  \n",
       "693  Material Moving Workers                    53  \n",
       "694  Material Moving Workers                    53  \n",
       "695  Material Moving Workers                    53  \n",
       "\n",
       "[696 rows x 12 columns]"
      ]
     },
     "execution_count": 372,
     "metadata": {},
     "output_type": "execute_result"
    }
   ],
   "source": [
    "df_plot = pd.merge(df_final_data, df_final_codes, on=[\"occupation_code\"])\n",
    "df_plot[\"occupation_code_group\"] = df_plot[\"occupation_code\"].str[:2]\n",
    "df_plot"
   ]
  },
  {
   "cell_type": "code",
   "execution_count": 373,
   "id": "8c0df2bc-2654-433b-939e-a3129b1cfc5f",
   "metadata": {},
   "outputs": [
    {
     "data": {
      "text/plain": [
       "Index(['occupation_code', 'year', 'total_employment', 'annual_mean',\n",
       "       'annual_percentile_10', 'annual_percentile_25', 'annual_percentile_50',\n",
       "       'annual_percentile_75', 'annual_percentile_90', 'occupation_level',\n",
       "       'occupation_title', 'occupation_code_group'],\n",
       "      dtype='object')"
      ]
     },
     "execution_count": 373,
     "metadata": {},
     "output_type": "execute_result"
    }
   ],
   "source": [
    "df_plot.columns"
   ]
  },
  {
   "cell_type": "code",
   "execution_count": 374,
   "id": "653e3d26-063d-46bf-ae81-dc7154ae130a",
   "metadata": {},
   "outputs": [],
   "source": [
    "# Save data to use in the website\n",
    "df_plot.to_csv(f\"{data_folder}/consolidated_dataset.csv\")"
   ]
  },
  {
   "cell_type": "markdown",
   "id": "85c14ebb-af39-48c1-b42e-34a8abd89076",
   "metadata": {},
   "source": [
    "# Plots"
   ]
  },
  {
   "cell_type": "markdown",
   "id": "9ab64d40-3927-42a6-b94f-5c9765735ea9",
   "metadata": {},
   "source": [
    "## First Overview draft plot"
   ]
  },
  {
   "cell_type": "code",
   "execution_count": 365,
   "id": "3c70df19-78a7-46b5-888e-0b3ea6def13c",
   "metadata": {},
   "outputs": [
    {
     "data": {
      "image/png": "[encoded data removed]",
      "text/plain": [
       "<Figure size 640x480 with 1 Axes>"
      ]
     },
     "metadata": {},
     "output_type": "display_data"
    }
   ],
   "source": [
    "# Define colors for each group\n",
    "group_colors = {'2019': 'red', 'major': 'blue', 'minor': 'green'}\n",
    "color_list = [group_colors[g] for g in df_plot['occupation_level']]\n",
    "\n",
    "# Create the scatter plot with custom colors\n",
    "fig, ax = plt.subplots()\n",
    "df_plot.plot.scatter(x='annual_mean', y='total_employment', c=color_list, ax=ax)\n",
    "\n",
    "# Set logarithmic scale on both axes\n",
    "ax.set_xscale('log')\n",
    "ax.set_yscale('log')\n",
    "\n",
    "# Create custom legend handles\n",
    "legend_handles = [mpatches.Patch(color=color, label=group) for group, color in group_colors.items()]\n",
    "ax.legend(handles=legend_handles, title='Group')\n",
    "\n",
    "plt.title('Scatter Plot with Log Scale and Group Coloring')\n",
    "plt.grid(True, which=\"both\", ls=\"-\", alpha=0.2) # Add grid for better log scale visualization\n",
    "plt.show()"
   ]
  },
  {
   "cell_type": "markdown",
   "id": "7f98d455-8a05-433e-b112-9f3e8f4babbf",
   "metadata": {},
   "source": [
    "## Final plots"
   ]
  },
  {
   "cell_type": "code",
   "execution_count": 366,
   "id": "88b548f8-3313-42ed-9b1f-6c5e5e13e383",
   "metadata": {},
   "outputs": [],
   "source": [
    "occupation_level = None # options = [\"minor\", \"major\"]\n",
    "occupation_title = None #None [\"Tour and Travel Guides\", \"Communications Equipment Operators\", \"Management Occupations\"]\n",
    "\n",
    "level_mask = pd.Series(data=True, index=df_plot.index) if occupation_level is None else df_plot[\"occupation_level\"] == occupation_level\n",
    "title_mask = pd.Series(data=True, index=df_plot.index) if occupation_title is None else df_plot[\"occupation_title\"] == occupation_title"
   ]
  },
  {
   "cell_type": "code",
   "execution_count": 367,
   "id": "df354eae-0ac4-47ea-a16e-ca3480c1d749",
   "metadata": {},
   "outputs": [],
   "source": [
    "df_aux = df_plot.loc[\n",
    "    (level_mask)\n",
    "    & (title_mask)\n",
    "]"
   ]
  },
  {
   "cell_type": "code",
   "execution_count": 369,
   "id": "382c7cfa-ee52-42ee-83a9-a70d355960e5",
   "metadata": {},
   "outputs": [
    {
     "data": {
      "application/vnd.plotly.v1+json": {
       "config": {
        "plotlyServerURL": "https://plot.ly"
       },
       "data": [
        {
         "customdata": [
          [
           "Management Occupations"
          ],
          [
           "Management Occupations"
          ],
          [
           "Management Occupations"
          ],
          [
           "Management Occupations"
          ],
          [
           "Management Occupations"
          ],
          [
           "Management Occupations"
          ],
          [
           "Business and Financial Operations Occupations"
          ],
          [
           "Business and Financial Operations Occupations"
          ],
          [
           "Business and Financial Operations Occupations"
          ],
          [
           "Business and Financial Operations Occupations"
          ],
          [
           "Business and Financial Operations Occupations"
          ],
          [
           "Business and Financial Operations Occupations"
          ],
          [
           "Computer and Mathematical Occupations"
          ],
          [
           "Computer and Mathematical Occupations"
          ],
          [
           "Computer and Mathematical Occupations"
          ],
          [
           "Computer and Mathematical Occupations"
          ],
          [
           "Computer and Mathematical Occupations"
          ],
          [
           "Computer and Mathematical Occupations"
          ],
          [
           "Architecture and Engineering Occupations"
          ],
          [
           "Architecture and Engineering Occupations"
          ],
          [
           "Architecture and Engineering Occupations"
          ],
          [
           "Architecture and Engineering Occupations"
          ],
          [
           "Architecture and Engineering Occupations"
          ],
          [
           "Architecture and Engineering Occupations"
          ],
          [
           "Life, Physical, and Social Science Occupations"
          ],
          [
           "Life, Physical, and Social Science Occupations"
          ],
          [
           "Life, Physical, and Social Science Occupations"
          ],
          [
           "Life, Physical, and Social Science Occupations"
          ],
          [
           "Life, Physical, and Social Science Occupations"
          ],
          [
           "Life, Physical, and Social Science Occupations"
          ],
          [
           "Community and Social Service Occupations"
          ],
          [
           "Community and Social Service Occupations"
          ],
          [
           "Community and Social Service Occupations"
          ],
          [
           "Community and Social Service Occupations"
          ],
          [
           "Community and Social Service Occupations"
          ],
          [
           "Community and Social Service Occupations"
          ],
          [
           "Legal Occupations"
          ],
          [
           "Legal Occupations"
          ],
          [
           "Legal Occupations"
          ],
          [
           "Legal Occupations"
          ],
          [
           "Legal Occupations"
          ],
          [
           "Legal Occupations"
          ],
          [
           "Educational Instruction and Library Occupations"
          ],
          [
           "Educational Instruction and Library Occupations"
          ],
          [
           "Educational Instruction and Library Occupations"
          ],
          [
           "Educational Instruction and Library Occupations"
          ],
          [
           "Educational Instruction and Library Occupations"
          ],
          [
           "Educational Instruction and Library Occupations"
          ],
          [
           "Arts, Design, Entertainment, Sports, and Media Occupations"
          ],
          [
           "Arts, Design, Entertainment, Sports, and Media Occupations"
          ],
          [
           "Arts, Design, Entertainment, Sports, and Media Occupations"
          ],
          [
           "Arts, Design, Entertainment, Sports, and Media Occupations"
          ],
          [
           "Arts, Design, Entertainment, Sports, and Media Occupations"
          ],
          [
           "Arts, Design, Entertainment, Sports, and Media Occupations"
          ],
          [
           "Healthcare Practitioners and Technical Occupations"
          ],
          [
           "Healthcare Practitioners and Technical Occupations"
          ],
          [
           "Healthcare Practitioners and Technical Occupations"
          ],
          [
           "Healthcare Practitioners and Technical Occupations"
          ],
          [
           "Healthcare Practitioners and Technical Occupations"
          ],
          [
           "Healthcare Practitioners and Technical Occupations"
          ],
          [
           "Healthcare Support Occupations"
          ],
          [
           "Healthcare Support Occupations"
          ],
          [
           "Healthcare Support Occupations"
          ],
          [
           "Healthcare Support Occupations"
          ],
          [
           "Healthcare Support Occupations"
          ],
          [
           "Healthcare Support Occupations"
          ],
          [
           "Protective Service Occupations"
          ],
          [
           "Protective Service Occupations"
          ],
          [
           "Protective Service Occupations"
          ],
          [
           "Protective Service Occupations"
          ],
          [
           "Protective Service Occupations"
          ],
          [
           "Protective Service Occupations"
          ],
          [
           "Food Preparation and Serving Related Occupations"
          ],
          [
           "Food Preparation and Serving Related Occupations"
          ],
          [
           "Food Preparation and Serving Related Occupations"
          ],
          [
           "Food Preparation and Serving Related Occupations"
          ],
          [
           "Food Preparation and Serving Related Occupations"
          ],
          [
           "Food Preparation and Serving Related Occupations"
          ],
          [
           "Building and Grounds Cleaning and Maintenance Occupations"
          ],
          [
           "Building and Grounds Cleaning and Maintenance Occupations"
          ],
          [
           "Building and Grounds Cleaning and Maintenance Occupations"
          ],
          [
           "Building and Grounds Cleaning and Maintenance Occupations"
          ],
          [
           "Building and Grounds Cleaning and Maintenance Occupations"
          ],
          [
           "Building and Grounds Cleaning and Maintenance Occupations"
          ],
          [
           "Personal Care and Service Occupations"
          ],
          [
           "Personal Care and Service Occupations"
          ],
          [
           "Personal Care and Service Occupations"
          ],
          [
           "Personal Care and Service Occupations"
          ],
          [
           "Personal Care and Service Occupations"
          ],
          [
           "Personal Care and Service Occupations"
          ],
          [
           "Sales and Related Occupations"
          ],
          [
           "Sales and Related Occupations"
          ],
          [
           "Sales and Related Occupations"
          ],
          [
           "Sales and Related Occupations"
          ],
          [
           "Sales and Related Occupations"
          ],
          [
           "Sales and Related Occupations"
          ],
          [
           "Office and Administrative Support Occupations"
          ],
          [
           "Office and Administrative Support Occupations"
          ],
          [
           "Office and Administrative Support Occupations"
          ],
          [
           "Office and Administrative Support Occupations"
          ],
          [
           "Office and Administrative Support Occupations"
          ],
          [
           "Office and Administrative Support Occupations"
          ],
          [
           "Farming, Fishing, and Forestry Occupations"
          ],
          [
           "Farming, Fishing, and Forestry Occupations"
          ],
          [
           "Farming, Fishing, and Forestry Occupations"
          ],
          [
           "Farming, Fishing, and Forestry Occupations"
          ],
          [
           "Farming, Fishing, and Forestry Occupations"
          ],
          [
           "Farming, Fishing, and Forestry Occupations"
          ],
          [
           "Construction and Extraction Occupations"
          ],
          [
           "Construction and Extraction Occupations"
          ],
          [
           "Construction and Extraction Occupations"
          ],
          [
           "Construction and Extraction Occupations"
          ],
          [
           "Construction and Extraction Occupations"
          ],
          [
           "Construction and Extraction Occupations"
          ],
          [
           "Installation, Maintenance, and Repair Occupations"
          ],
          [
           "Installation, Maintenance, and Repair Occupations"
          ],
          [
           "Installation, Maintenance, and Repair Occupations"
          ],
          [
           "Installation, Maintenance, and Repair Occupations"
          ],
          [
           "Installation, Maintenance, and Repair Occupations"
          ],
          [
           "Installation, Maintenance, and Repair Occupations"
          ],
          [
           "Production Occupations"
          ],
          [
           "Production Occupations"
          ],
          [
           "Production Occupations"
          ],
          [
           "Production Occupations"
          ],
          [
           "Production Occupations"
          ],
          [
           "Production Occupations"
          ],
          [
           "Transportation and Material Moving Occupations"
          ],
          [
           "Transportation and Material Moving Occupations"
          ],
          [
           "Transportation and Material Moving Occupations"
          ],
          [
           "Transportation and Material Moving Occupations"
          ],
          [
           "Transportation and Material Moving Occupations"
          ],
          [
           "Transportation and Material Moving Occupations"
          ]
         ],
         "hovertemplate": "occupation_level=major<br>annual_mean=%{x}<br>total_employment=%{y}<br>occupation_title=%{customdata[0]}<br>year=%{marker.color}<extra></extra>",
         "legendgroup": "major",
         "marker": {
          "color": {
           "bdata": "4wfkB+UH5gfnB+gH4wfkB+UH5gfnB+gH4wfkB+UH5gfnB+gH4wfkB+UH5gfnB+gH4wfkB+UH5gfnB+gH4wfkB+UH5gfnB+gH4wfkB+UH5gfnB+gH4wfkB+UH5gfnB+gH4wfkB+UH5gfnB+gH4wfkB+UH5gfnB+gH4wfkB+UH5gfnB+gH4wfkB+UH5gfnB+gH4wfkB+UH5gfnB+gH4wfkB+UH5gfnB+gH4wfkB+UH5gfnB+gH4wfkB+UH5gfnB+gH4wfkB+UH5gfnB+gH4wfkB+UH5gfnB+gH4wfkB+UH5gfnB+gH4wfkB+UH5gfnB+gH4wfkB+UH5gfnB+gH4wfkB+UH5gfnB+gH",
           "dtype": "i2"
          },
          "coloraxis": "coloraxis",
          "size": 10,
          "symbol": "circle"
         },
         "mode": "markers",
         "name": "major",
         "orientation": "v",
         "showlegend": true,
         "type": "scatter",
         "x": {
          "bdata": "AAAAAADn/UAAAAAAAOH+QAAAAACgHv5AAAAAAAAEAEEAAAAAsNAAQQAAAAAATgFBAAAAACAT80AAAAAAgLLzQAAAAAAgK/RAAAAAAAAE9UAAAAAAQB32QAAAAAAA3/ZAAAAAAADk9kAAAAAAIKD3QAAAAABAYfhAAAAAACBm+kAAAAAAQJ/7QAAAAACghPxAAAAAAACu9UAAAAAAwAv2QAAAAADAZfZAAAAAAOAc90AAAAAAIDH4QAAAAADAYvlAAAAAAEDu8kAAAAAAAGDzQAAAAACgtfNAAAAAAIBr9EAAAAAA4HP1QAAAAACg5fVAAAAAAACm6EAAAAAAgHrpQAAAAAAAWepAAAAAAAA660AAAAAAgMzsQAAAAADAxu5AAAAAAODD+kAAAAAAAGz7QAAAAADAnPtAAAAAAMBn/kAAAAAA4FUAQQAAAACAzgBBAAAAAMAt7EAAAAAAQDTtQAAAAACAV+5AAAAAAADh7kAAAAAAADbwQAAAAADAFvBAAAAAAABB7kAAAAAAAHLvQAAAAABAI/BAAAAAAECt8kAAAAAAAHDyQAAAAAAAz/JAAAAAAIBr9EAAAAAAwPj0QAAAAADAPfZAAAAAACCg90AAAAAAwOr4QAAAAABAsPlAAAAAAIBI3kAAAAAAgH7fQAAAAABARuBAAAAAAABd4UAAAAAAgKniQAAAAABAXONAAAAAAABb6EAAAAAAgH/pQAAAAACAFepAAAAAAEBf6kAAAAAAwC3sQAAAAAAAye1AAAAAAIAL2kAAAAAAgADbQAAAAACAwtxAAAAAAIBg30AAAAAAQNfgQAAAAACAluFAAAAAAICE3kAAAAAAAP7fQAAAAADAeuBAAAAAAICH4UAAAAAAALbiQAAAAACATuNAAAAAAACH3kAAAAAAgNjfQAAAAACAauBAAAAAAECu4UAAAAAAwMPiQAAAAABAPuNAAAAAAIAG5UAAAAAAwFbmQAAAAAAAgOZAAAAAAECY6EAAAAAAAATqQAAAAADAZupAAAAAAAAK5EAAAAAAwLLkQAAAAADANOVAAAAAAMA95kAAAAAAgGjnQAAAAAAAfuhAAAAAAACb3kAAAAAAwEPgQAAAAABA9eBAAAAAAMB94kAAAAAAQITjQAAAAABAYORAAAAAAICs6UAAAAAAgFbqQAAAAACAS+tAAAAAAACE7EAAAAAAgAfuQAAAAAAANu9AAAAAAEB66EAAAAAAAJHpQAAAAACAEOpAAAAAAAAw60AAAAAAgJDsQAAAAAAAGe5AAAAAAICZ40AAAAAAAGTkQAAAAADAB+VAAAAAAEAn5kAAAAAAgEDnQAAAAABAdehAAAAAAACE4kAAAAAAAGDjQAAAAACAL+RAAAAAAEBz5UAAAAAAQMzmQAAAAADAzedA",
          "dtype": "f8"
         },
         "xaxis": "x",
         "y": {
          "bdata": "AAAAAFq5XkEAAAAACVFeQQAAAMCK/mBBAAAAgNDOYkEAAABA4wRkQQAAAMDl6mRBAAAAgPE3X0EAAACA6P5fQQAAAMDLRGFBAAAAAHN1YkEAAADAsj1jQQAAAABqvmNBAAAAACxeUUEAAAAALYBRQQAAAICnwVFBAAAAgKEWU0EAAAAADsBTQQAAAIAuz1NBAAAAANTHQ0EAAAAAMDBDQQAAAADUlkJBAAAAAAnuQkEAAAAARmBDQQAAAAAVlkNBAAAAANiqM0EAAAAAvMYzQQAAAAAobzNBAAAAADgONEEAAAAAdjM1QQAAAAByEzZBAAAAAGsfQUEAAAAAjwVBQQAAAABgFkFBAAAAAMqmQUEAAAAA6XJCQQAAAADPmkNBAAAAADyPMUEAAAAAtJ4xQQAAAAAc+jFBAAAAAFiQMkEAAAAANu4yQQAAAABCbjNBAAAAACnzYEEAAADAdxxgQQAAAIDuP19BAAAAgNE0YEEAAAAAzq1gQQAAAMD/EGFBAAAAABLKPkEAAAAA3Fc8QQAAAAD6sjtBAAAAABR8P0EAAAAAPRJAQQAAAAABA0BBAAAAgO6KYEEAAACADV1gQQAAAEDiwmBBAAAAwI8/YUEAAABATrVhQQAAAEDuS2JBAAAAgO/gWEEAAAAA7JFYQQAAAADoMFlBAAAAgB3pWUEAAACA+vFaQQAAAIByaVxBAAAAAJixSkEAAAAARpFJQQAAAABj00lBAAAAABU6SkEAAAAAZbxKQQAAAAB/4ktBAAAAwCe9aUEAAABAcHtlQQAAAAB5XWVBAAAAgKfeZ0EAAADAr0RpQQAAAEA292lBAAAAAEvlUEEAAAAAATVPQQAAAAAFWU9BAAAAgC93UEEAAACAQ+VQQQAAAIDFJlFBAAAAAJAzSUEAAAAASpJEQQAAAACUlENBAAAAAGGiRUEAAAAAuzJHQQAAAADCG0hBAAAAQEppa0EAAAAAaAZpQQAAAEDMSGlBAAAAQCIlaUEAAACAhoVpQQAAAABgd2lBAAAAoKOfckEAAACAaLBxQQAAAECfc3FBAAAAIEXPcUEAAACgxKxxQQAAAGDFX3FBAAAAADiWHUEAAAAAyDgdQQAAAAAonhtBAAAAANguHEEAAAAAIGEaQQAAAAAI+xpBAAAAAPegV0EAAACAqaZWQQAAAIDdT1ZBAAAAACAtV0EAAACAt79XQQAAAACeRFhBAAAAgIrLVUEAAACAVO5UQQAAAIDCQ1VBAAAAAOo2VkEAAAAAFdlWQQAAAABXD1dBAAAAgCh4YUEAAABA3j9gQQAAAMB7CWBBAAAAgBSrYEEAAABAT7pgQQAAAEBDrWBBAAAAwCfnZ0EAAAAAJDNnQQAAAADWG2hBAAAAgFHdaUEAAAAANztqQQAAAIDmBmpB",
          "dtype": "f8"
         },
         "yaxis": "y"
        },
        {
         "customdata": [
          [
           "Top Executives"
          ],
          [
           "Top Executives"
          ],
          [
           "Top Executives"
          ],
          [
           "Top Executives"
          ],
          [
           "Top Executives"
          ],
          [
           "Top Executives"
          ],
          [
           "Advertising, Marketing, Promotions, Public Relations, and Sales Managers"
          ],
          [
           "Advertising, Marketing, Promotions, Public Relations, and Sales Managers"
          ],
          [
           "Advertising, Marketing, Promotions, Public Relations, and Sales Managers"
          ],
          [
           "Advertising, Marketing, Promotions, Public Relations, and Sales Managers"
          ],
          [
           "Advertising, Marketing, Promotions, Public Relations, and Sales Managers"
          ],
          [
           "Advertising, Marketing, Promotions, Public Relations, and Sales Managers"
          ],
          [
           "Operations Specialties Managers"
          ],
          [
           "Operations Specialties Managers"
          ],
          [
           "Operations Specialties Managers"
          ],
          [
           "Operations Specialties Managers"
          ],
          [
           "Operations Specialties Managers"
          ],
          [
           "Operations Specialties Managers"
          ],
          [
           "Other Management Occupations"
          ],
          [
           "Other Management Occupations"
          ],
          [
           "Other Management Occupations"
          ],
          [
           "Other Management Occupations"
          ],
          [
           "Other Management Occupations"
          ],
          [
           "Other Management Occupations"
          ],
          [
           "Business Operations Specialists"
          ],
          [
           "Business Operations Specialists"
          ],
          [
           "Business Operations Specialists"
          ],
          [
           "Business Operations Specialists"
          ],
          [
           "Business Operations Specialists"
          ],
          [
           "Business Operations Specialists"
          ],
          [
           "Financial Specialists"
          ],
          [
           "Financial Specialists"
          ],
          [
           "Financial Specialists"
          ],
          [
           "Financial Specialists"
          ],
          [
           "Financial Specialists"
          ],
          [
           "Financial Specialists"
          ],
          [
           "Computer Occupations"
          ],
          [
           "Computer Occupations"
          ],
          [
           "Computer Occupations"
          ],
          [
           "Computer Occupations"
          ],
          [
           "Computer Occupations"
          ],
          [
           "Computer Occupations"
          ],
          [
           "Mathematical Science Occupations"
          ],
          [
           "Mathematical Science Occupations"
          ],
          [
           "Mathematical Science Occupations"
          ],
          [
           "Mathematical Science Occupations"
          ],
          [
           "Mathematical Science Occupations"
          ],
          [
           "Mathematical Science Occupations"
          ],
          [
           "Architects, Surveyors, and Cartographers"
          ],
          [
           "Architects, Surveyors, and Cartographers"
          ],
          [
           "Architects, Surveyors, and Cartographers"
          ],
          [
           "Architects, Surveyors, and Cartographers"
          ],
          [
           "Architects, Surveyors, and Cartographers"
          ],
          [
           "Architects, Surveyors, and Cartographers"
          ],
          [
           "Engineers"
          ],
          [
           "Engineers"
          ],
          [
           "Engineers"
          ],
          [
           "Engineers"
          ],
          [
           "Engineers"
          ],
          [
           "Engineers"
          ],
          [
           "Drafters, Engineering Technicians, and Mapping Technicians"
          ],
          [
           "Drafters, Engineering Technicians, and Mapping Technicians"
          ],
          [
           "Drafters, Engineering Technicians, and Mapping Technicians"
          ],
          [
           "Drafters, Engineering Technicians, and Mapping Technicians"
          ],
          [
           "Drafters, Engineering Technicians, and Mapping Technicians"
          ],
          [
           "Drafters, Engineering Technicians, and Mapping Technicians"
          ],
          [
           "Life Scientists"
          ],
          [
           "Life Scientists"
          ],
          [
           "Life Scientists"
          ],
          [
           "Life Scientists"
          ],
          [
           "Life Scientists"
          ],
          [
           "Life Scientists"
          ],
          [
           "Physical Scientists"
          ],
          [
           "Physical Scientists"
          ],
          [
           "Physical Scientists"
          ],
          [
           "Physical Scientists"
          ],
          [
           "Physical Scientists"
          ],
          [
           "Physical Scientists"
          ],
          [
           "Social Scientists and Related Workers"
          ],
          [
           "Social Scientists and Related Workers"
          ],
          [
           "Social Scientists and Related Workers"
          ],
          [
           "Social Scientists and Related Workers"
          ],
          [
           "Social Scientists and Related Workers"
          ],
          [
           "Social Scientists and Related Workers"
          ],
          [
           "Life, Physical, and Social Science Technicians"
          ],
          [
           "Life, Physical, and Social Science Technicians"
          ],
          [
           "Life, Physical, and Social Science Technicians"
          ],
          [
           "Life, Physical, and Social Science Technicians"
          ],
          [
           "Life, Physical, and Social Science Technicians"
          ],
          [
           "Life, Physical, and Social Science Technicians"
          ],
          [
           "Occupational Health and Safety Specialists and Technicians"
          ],
          [
           "Occupational Health and Safety Specialists and Technicians"
          ],
          [
           "Occupational Health and Safety Specialists and Technicians"
          ],
          [
           "Occupational Health and Safety Specialists and Technicians"
          ],
          [
           "Occupational Health and Safety Specialists and Technicians"
          ],
          [
           "Occupational Health and Safety Specialists and Technicians"
          ],
          [
           "Counselors, Social Workers, and Other Community and Social Service Specialists"
          ],
          [
           "Counselors, Social Workers, and Other Community and Social Service Specialists"
          ],
          [
           "Counselors, Social Workers, and Other Community and Social Service Specialists"
          ],
          [
           "Counselors, Social Workers, and Other Community and Social Service Specialists"
          ],
          [
           "Counselors, Social Workers, and Other Community and Social Service Specialists"
          ],
          [
           "Counselors, Social Workers, and Other Community and Social Service Specialists"
          ],
          [
           "Religious Workers"
          ],
          [
           "Religious Workers"
          ],
          [
           "Religious Workers"
          ],
          [
           "Religious Workers"
          ],
          [
           "Religious Workers"
          ],
          [
           "Religious Workers"
          ],
          [
           "Lawyers, Judges, and Related Workers"
          ],
          [
           "Lawyers, Judges, and Related Workers"
          ],
          [
           "Lawyers, Judges, and Related Workers"
          ],
          [
           "Lawyers, Judges, and Related Workers"
          ],
          [
           "Lawyers, Judges, and Related Workers"
          ],
          [
           "Lawyers, Judges, and Related Workers"
          ],
          [
           "Legal Support Workers"
          ],
          [
           "Legal Support Workers"
          ],
          [
           "Legal Support Workers"
          ],
          [
           "Legal Support Workers"
          ],
          [
           "Legal Support Workers"
          ],
          [
           "Legal Support Workers"
          ],
          [
           "Postsecondary Teachers"
          ],
          [
           "Postsecondary Teachers"
          ],
          [
           "Postsecondary Teachers"
          ],
          [
           "Postsecondary Teachers"
          ],
          [
           "Postsecondary Teachers"
          ],
          [
           "Postsecondary Teachers"
          ],
          [
           "Preschool, Elementary, Middle, Secondary, and Special Education Teachers"
          ],
          [
           "Preschool, Elementary, Middle, Secondary, and Special Education Teachers"
          ],
          [
           "Preschool, Elementary, Middle, Secondary, and Special Education Teachers"
          ],
          [
           "Preschool, Elementary, Middle, Secondary, and Special Education Teachers"
          ],
          [
           "Preschool, Elementary, Middle, Secondary, and Special Education Teachers"
          ],
          [
           "Preschool, Elementary, Middle, Secondary, and Special Education Teachers"
          ],
          [
           "Other Teachers and Instructors"
          ],
          [
           "Other Teachers and Instructors"
          ],
          [
           "Other Teachers and Instructors"
          ],
          [
           "Other Teachers and Instructors"
          ],
          [
           "Other Teachers and Instructors"
          ],
          [
           "Other Teachers and Instructors"
          ],
          [
           "Librarians, Curators, and Archivists"
          ],
          [
           "Librarians, Curators, and Archivists"
          ],
          [
           "Librarians, Curators, and Archivists"
          ],
          [
           "Librarians, Curators, and Archivists"
          ],
          [
           "Librarians, Curators, and Archivists"
          ],
          [
           "Librarians, Curators, and Archivists"
          ],
          [
           "Other Educational Instruction and Library Occupations"
          ],
          [
           "Other Educational Instruction and Library Occupations"
          ],
          [
           "Other Educational Instruction and Library Occupations"
          ],
          [
           "Other Educational Instruction and Library Occupations"
          ],
          [
           "Other Educational Instruction and Library Occupations"
          ],
          [
           "Other Educational Instruction and Library Occupations"
          ],
          [
           "Art and Design Workers"
          ],
          [
           "Art and Design Workers"
          ],
          [
           "Art and Design Workers"
          ],
          [
           "Art and Design Workers"
          ],
          [
           "Art and Design Workers"
          ],
          [
           "Art and Design Workers"
          ],
          [
           "Entertainers and Performers, Sports and Related Workers"
          ],
          [
           "Entertainers and Performers, Sports and Related Workers"
          ],
          [
           "Entertainers and Performers, Sports and Related Workers"
          ],
          [
           "Entertainers and Performers, Sports and Related Workers"
          ],
          [
           "Entertainers and Performers, Sports and Related Workers"
          ],
          [
           "Entertainers and Performers, Sports and Related Workers"
          ],
          [
           "Media and Communication Workers"
          ],
          [
           "Media and Communication Workers"
          ],
          [
           "Media and Communication Workers"
          ],
          [
           "Media and Communication Workers"
          ],
          [
           "Media and Communication Workers"
          ],
          [
           "Media and Communication Workers"
          ],
          [
           "Media and Communication Equipment Workers"
          ],
          [
           "Media and Communication Equipment Workers"
          ],
          [
           "Media and Communication Equipment Workers"
          ],
          [
           "Media and Communication Equipment Workers"
          ],
          [
           "Media and Communication Equipment Workers"
          ],
          [
           "Media and Communication Equipment Workers"
          ],
          [
           "Healthcare Diagnosing or Treating Practitioners"
          ],
          [
           "Healthcare Diagnosing or Treating Practitioners"
          ],
          [
           "Healthcare Diagnosing or Treating Practitioners"
          ],
          [
           "Healthcare Diagnosing or Treating Practitioners"
          ],
          [
           "Healthcare Diagnosing or Treating Practitioners"
          ],
          [
           "Healthcare Diagnosing or Treating Practitioners"
          ],
          [
           "Health Technologists and Technicians"
          ],
          [
           "Health Technologists and Technicians"
          ],
          [
           "Health Technologists and Technicians"
          ],
          [
           "Health Technologists and Technicians"
          ],
          [
           "Health Technologists and Technicians"
          ],
          [
           "Health Technologists and Technicians"
          ],
          [
           "Other Healthcare Practitioners and Technical Occupations"
          ],
          [
           "Other Healthcare Practitioners and Technical Occupations"
          ],
          [
           "Other Healthcare Practitioners and Technical Occupations"
          ],
          [
           "Other Healthcare Practitioners and Technical Occupations"
          ],
          [
           "Other Healthcare Practitioners and Technical Occupations"
          ],
          [
           "Other Healthcare Practitioners and Technical Occupations"
          ],
          [
           "Home Health and Personal Care Aides; and Nursing Assistants, Orderlies, and Psychiatric Aides"
          ],
          [
           "Home Health and Personal Care Aides; and Nursing Assistants, Orderlies, and Psychiatric Aides"
          ],
          [
           "Home Health and Personal Care Aides; and Nursing Assistants, Orderlies, and Psychiatric Aides"
          ],
          [
           "Home Health and Personal Care Aides; and Nursing Assistants, Orderlies, and Psychiatric Aides"
          ],
          [
           "Home Health and Personal Care Aides; and Nursing Assistants, Orderlies, and Psychiatric Aides"
          ],
          [
           "Home Health and Personal Care Aides; and Nursing Assistants, Orderlies, and Psychiatric Aides"
          ],
          [
           "Occupational Therapy and Physical Therapist Assistants and Aides"
          ],
          [
           "Occupational Therapy and Physical Therapist Assistants and Aides"
          ],
          [
           "Occupational Therapy and Physical Therapist Assistants and Aides"
          ],
          [
           "Occupational Therapy and Physical Therapist Assistants and Aides"
          ],
          [
           "Occupational Therapy and Physical Therapist Assistants and Aides"
          ],
          [
           "Occupational Therapy and Physical Therapist Assistants and Aides"
          ],
          [
           "Other Healthcare Support Occupations"
          ],
          [
           "Other Healthcare Support Occupations"
          ],
          [
           "Other Healthcare Support Occupations"
          ],
          [
           "Other Healthcare Support Occupations"
          ],
          [
           "Other Healthcare Support Occupations"
          ],
          [
           "Other Healthcare Support Occupations"
          ],
          [
           "Supervisors of Protective Service Workers"
          ],
          [
           "Supervisors of Protective Service Workers"
          ],
          [
           "Supervisors of Protective Service Workers"
          ],
          [
           "Supervisors of Protective Service Workers"
          ],
          [
           "Supervisors of Protective Service Workers"
          ],
          [
           "Supervisors of Protective Service Workers"
          ],
          [
           "Firefighting and Prevention Workers"
          ],
          [
           "Firefighting and Prevention Workers"
          ],
          [
           "Firefighting and Prevention Workers"
          ],
          [
           "Firefighting and Prevention Workers"
          ],
          [
           "Firefighting and Prevention Workers"
          ],
          [
           "Firefighting and Prevention Workers"
          ],
          [
           "Law Enforcement Workers"
          ],
          [
           "Law Enforcement Workers"
          ],
          [
           "Law Enforcement Workers"
          ],
          [
           "Law Enforcement Workers"
          ],
          [
           "Law Enforcement Workers"
          ],
          [
           "Law Enforcement Workers"
          ],
          [
           "Other Protective Service Workers"
          ],
          [
           "Other Protective Service Workers"
          ],
          [
           "Other Protective Service Workers"
          ],
          [
           "Other Protective Service Workers"
          ],
          [
           "Other Protective Service Workers"
          ],
          [
           "Other Protective Service Workers"
          ],
          [
           "Supervisors of Food Preparation and Serving Workers"
          ],
          [
           "Supervisors of Food Preparation and Serving Workers"
          ],
          [
           "Supervisors of Food Preparation and Serving Workers"
          ],
          [
           "Supervisors of Food Preparation and Serving Workers"
          ],
          [
           "Supervisors of Food Preparation and Serving Workers"
          ],
          [
           "Supervisors of Food Preparation and Serving Workers"
          ],
          [
           "Cooks and Food Preparation Workers"
          ],
          [
           "Cooks and Food Preparation Workers"
          ],
          [
           "Cooks and Food Preparation Workers"
          ],
          [
           "Cooks and Food Preparation Workers"
          ],
          [
           "Cooks and Food Preparation Workers"
          ],
          [
           "Cooks and Food Preparation Workers"
          ],
          [
           "Food and Beverage Serving Workers"
          ],
          [
           "Food and Beverage Serving Workers"
          ],
          [
           "Food and Beverage Serving Workers"
          ],
          [
           "Food and Beverage Serving Workers"
          ],
          [
           "Food and Beverage Serving Workers"
          ],
          [
           "Food and Beverage Serving Workers"
          ],
          [
           "Other Food Preparation and Serving Related Workers"
          ],
          [
           "Other Food Preparation and Serving Related Workers"
          ],
          [
           "Other Food Preparation and Serving Related Workers"
          ],
          [
           "Other Food Preparation and Serving Related Workers"
          ],
          [
           "Other Food Preparation and Serving Related Workers"
          ],
          [
           "Other Food Preparation and Serving Related Workers"
          ],
          [
           "Supervisors of Building and Grounds Cleaning and Maintenance Workers"
          ],
          [
           "Supervisors of Building and Grounds Cleaning and Maintenance Workers"
          ],
          [
           "Supervisors of Building and Grounds Cleaning and Maintenance Workers"
          ],
          [
           "Supervisors of Building and Grounds Cleaning and Maintenance Workers"
          ],
          [
           "Supervisors of Building and Grounds Cleaning and Maintenance Workers"
          ],
          [
           "Supervisors of Building and Grounds Cleaning and Maintenance Workers"
          ],
          [
           "Building Cleaning and Pest Control Workers"
          ],
          [
           "Building Cleaning and Pest Control Workers"
          ],
          [
           "Building Cleaning and Pest Control Workers"
          ],
          [
           "Building Cleaning and Pest Control Workers"
          ],
          [
           "Building Cleaning and Pest Control Workers"
          ],
          [
           "Building Cleaning and Pest Control Workers"
          ],
          [
           "Grounds Maintenance Workers"
          ],
          [
           "Grounds Maintenance Workers"
          ],
          [
           "Grounds Maintenance Workers"
          ],
          [
           "Grounds Maintenance Workers"
          ],
          [
           "Grounds Maintenance Workers"
          ],
          [
           "Grounds Maintenance Workers"
          ],
          [
           "Supervisors of Personal Care and Service Workers"
          ],
          [
           "Supervisors of Personal Care and Service Workers"
          ],
          [
           "Supervisors of Personal Care and Service Workers"
          ],
          [
           "Supervisors of Personal Care and Service Workers"
          ],
          [
           "Supervisors of Personal Care and Service Workers"
          ],
          [
           "Supervisors of Personal Care and Service Workers"
          ],
          [
           "Animal Care and Service Workers"
          ],
          [
           "Animal Care and Service Workers"
          ],
          [
           "Animal Care and Service Workers"
          ],
          [
           "Animal Care and Service Workers"
          ],
          [
           "Animal Care and Service Workers"
          ],
          [
           "Animal Care and Service Workers"
          ],
          [
           "Entertainment Attendants and Related Workers"
          ],
          [
           "Entertainment Attendants and Related Workers"
          ],
          [
           "Entertainment Attendants and Related Workers"
          ],
          [
           "Entertainment Attendants and Related Workers"
          ],
          [
           "Entertainment Attendants and Related Workers"
          ],
          [
           "Entertainment Attendants and Related Workers"
          ],
          [
           "Funeral Service Workers"
          ],
          [
           "Funeral Service Workers"
          ],
          [
           "Funeral Service Workers"
          ],
          [
           "Funeral Service Workers"
          ],
          [
           "Funeral Service Workers"
          ],
          [
           "Funeral Service Workers"
          ],
          [
           "Personal Appearance Workers"
          ],
          [
           "Personal Appearance Workers"
          ],
          [
           "Personal Appearance Workers"
          ],
          [
           "Personal Appearance Workers"
          ],
          [
           "Personal Appearance Workers"
          ],
          [
           "Personal Appearance Workers"
          ],
          [
           "Baggage Porters, Bellhops, and Concierges"
          ],
          [
           "Baggage Porters, Bellhops, and Concierges"
          ],
          [
           "Baggage Porters, Bellhops, and Concierges"
          ],
          [
           "Baggage Porters, Bellhops, and Concierges"
          ],
          [
           "Baggage Porters, Bellhops, and Concierges"
          ],
          [
           "Baggage Porters, Bellhops, and Concierges"
          ],
          [
           "Tour and Travel Guides"
          ],
          [
           "Tour and Travel Guides"
          ],
          [
           "Tour and Travel Guides"
          ],
          [
           "Tour and Travel Guides"
          ],
          [
           "Tour and Travel Guides"
          ],
          [
           "Tour and Travel Guides"
          ],
          [
           "Other Personal Care and Service Workers"
          ],
          [
           "Other Personal Care and Service Workers"
          ],
          [
           "Other Personal Care and Service Workers"
          ],
          [
           "Other Personal Care and Service Workers"
          ],
          [
           "Other Personal Care and Service Workers"
          ],
          [
           "Other Personal Care and Service Workers"
          ],
          [
           "Supervisors of Sales Workers"
          ],
          [
           "Supervisors of Sales Workers"
          ],
          [
           "Supervisors of Sales Workers"
          ],
          [
           "Supervisors of Sales Workers"
          ],
          [
           "Supervisors of Sales Workers"
          ],
          [
           "Supervisors of Sales Workers"
          ],
          [
           "Retail Sales Workers"
          ],
          [
           "Retail Sales Workers"
          ],
          [
           "Retail Sales Workers"
          ],
          [
           "Retail Sales Workers"
          ],
          [
           "Retail Sales Workers"
          ],
          [
           "Retail Sales Workers"
          ],
          [
           "Sales Representatives, Services"
          ],
          [
           "Sales Representatives, Services"
          ],
          [
           "Sales Representatives, Services"
          ],
          [
           "Sales Representatives, Services"
          ],
          [
           "Sales Representatives, Services"
          ],
          [
           "Sales Representatives, Services"
          ],
          [
           "Sales Representatives, Wholesale and Manufacturing"
          ],
          [
           "Sales Representatives, Wholesale and Manufacturing"
          ],
          [
           "Sales Representatives, Wholesale and Manufacturing"
          ],
          [
           "Sales Representatives, Wholesale and Manufacturing"
          ],
          [
           "Sales Representatives, Wholesale and Manufacturing"
          ],
          [
           "Sales Representatives, Wholesale and Manufacturing"
          ],
          [
           "Other Sales and Related Workers"
          ],
          [
           "Other Sales and Related Workers"
          ],
          [
           "Other Sales and Related Workers"
          ],
          [
           "Other Sales and Related Workers"
          ],
          [
           "Other Sales and Related Workers"
          ],
          [
           "Other Sales and Related Workers"
          ],
          [
           "Supervisors of Office and Administrative Support Workers"
          ],
          [
           "Supervisors of Office and Administrative Support Workers"
          ],
          [
           "Supervisors of Office and Administrative Support Workers"
          ],
          [
           "Supervisors of Office and Administrative Support Workers"
          ],
          [
           "Supervisors of Office and Administrative Support Workers"
          ],
          [
           "Supervisors of Office and Administrative Support Workers"
          ],
          [
           "Communications Equipment Operators"
          ],
          [
           "Communications Equipment Operators"
          ],
          [
           "Communications Equipment Operators"
          ],
          [
           "Communications Equipment Operators"
          ],
          [
           "Communications Equipment Operators"
          ],
          [
           "Communications Equipment Operators"
          ],
          [
           "Financial Clerks"
          ],
          [
           "Financial Clerks"
          ],
          [
           "Financial Clerks"
          ],
          [
           "Financial Clerks"
          ],
          [
           "Financial Clerks"
          ],
          [
           "Financial Clerks"
          ],
          [
           "Information and Record Clerks"
          ],
          [
           "Information and Record Clerks"
          ],
          [
           "Information and Record Clerks"
          ],
          [
           "Information and Record Clerks"
          ],
          [
           "Information and Record Clerks"
          ],
          [
           "Information and Record Clerks"
          ],
          [
           "Material Recording, Scheduling, Dispatching, and Distributing Workers"
          ],
          [
           "Material Recording, Scheduling, Dispatching, and Distributing Workers"
          ],
          [
           "Material Recording, Scheduling, Dispatching, and Distributing Workers"
          ],
          [
           "Material Recording, Scheduling, Dispatching, and Distributing Workers"
          ],
          [
           "Material Recording, Scheduling, Dispatching, and Distributing Workers"
          ],
          [
           "Material Recording, Scheduling, Dispatching, and Distributing Workers"
          ],
          [
           "Secretaries and Administrative Assistants"
          ],
          [
           "Secretaries and Administrative Assistants"
          ],
          [
           "Secretaries and Administrative Assistants"
          ],
          [
           "Secretaries and Administrative Assistants"
          ],
          [
           "Secretaries and Administrative Assistants"
          ],
          [
           "Secretaries and Administrative Assistants"
          ],
          [
           "Other Office and Administrative Support Workers"
          ],
          [
           "Other Office and Administrative Support Workers"
          ],
          [
           "Other Office and Administrative Support Workers"
          ],
          [
           "Other Office and Administrative Support Workers"
          ],
          [
           "Other Office and Administrative Support Workers"
          ],
          [
           "Other Office and Administrative Support Workers"
          ],
          [
           "Supervisors of Farming, Fishing, and Forestry Workers"
          ],
          [
           "Supervisors of Farming, Fishing, and Forestry Workers"
          ],
          [
           "Supervisors of Farming, Fishing, and Forestry Workers"
          ],
          [
           "Supervisors of Farming, Fishing, and Forestry Workers"
          ],
          [
           "Supervisors of Farming, Fishing, and Forestry Workers"
          ],
          [
           "Supervisors of Farming, Fishing, and Forestry Workers"
          ],
          [
           "Agricultural Workers"
          ],
          [
           "Agricultural Workers"
          ],
          [
           "Agricultural Workers"
          ],
          [
           "Agricultural Workers"
          ],
          [
           "Agricultural Workers"
          ],
          [
           "Agricultural Workers"
          ],
          [
           "Forest, Conservation, and Logging Workers"
          ],
          [
           "Forest, Conservation, and Logging Workers"
          ],
          [
           "Forest, Conservation, and Logging Workers"
          ],
          [
           "Forest, Conservation, and Logging Workers"
          ],
          [
           "Forest, Conservation, and Logging Workers"
          ],
          [
           "Forest, Conservation, and Logging Workers"
          ],
          [
           "Supervisors of Construction and Extraction Workers"
          ],
          [
           "Supervisors of Construction and Extraction Workers"
          ],
          [
           "Supervisors of Construction and Extraction Workers"
          ],
          [
           "Supervisors of Construction and Extraction Workers"
          ],
          [
           "Supervisors of Construction and Extraction Workers"
          ],
          [
           "Supervisors of Construction and Extraction Workers"
          ],
          [
           "Construction Trades Workers"
          ],
          [
           "Construction Trades Workers"
          ],
          [
           "Construction Trades Workers"
          ],
          [
           "Construction Trades Workers"
          ],
          [
           "Construction Trades Workers"
          ],
          [
           "Construction Trades Workers"
          ],
          [
           "Helpers, Construction Trades"
          ],
          [
           "Helpers, Construction Trades"
          ],
          [
           "Helpers, Construction Trades"
          ],
          [
           "Helpers, Construction Trades"
          ],
          [
           "Helpers, Construction Trades"
          ],
          [
           "Helpers, Construction Trades"
          ],
          [
           "Other Construction and Related Workers"
          ],
          [
           "Other Construction and Related Workers"
          ],
          [
           "Other Construction and Related Workers"
          ],
          [
           "Other Construction and Related Workers"
          ],
          [
           "Other Construction and Related Workers"
          ],
          [
           "Other Construction and Related Workers"
          ],
          [
           "Extraction Workers"
          ],
          [
           "Extraction Workers"
          ],
          [
           "Extraction Workers"
          ],
          [
           "Extraction Workers"
          ],
          [
           "Extraction Workers"
          ],
          [
           "Extraction Workers"
          ],
          [
           "Supervisors of Installation, Maintenance, and Repair Workers"
          ],
          [
           "Supervisors of Installation, Maintenance, and Repair Workers"
          ],
          [
           "Supervisors of Installation, Maintenance, and Repair Workers"
          ],
          [
           "Supervisors of Installation, Maintenance, and Repair Workers"
          ],
          [
           "Supervisors of Installation, Maintenance, and Repair Workers"
          ],
          [
           "Supervisors of Installation, Maintenance, and Repair Workers"
          ],
          [
           "Electrical and Electronic Equipment Mechanics, Installers, and Repairers"
          ],
          [
           "Electrical and Electronic Equipment Mechanics, Installers, and Repairers"
          ],
          [
           "Electrical and Electronic Equipment Mechanics, Installers, and Repairers"
          ],
          [
           "Electrical and Electronic Equipment Mechanics, Installers, and Repairers"
          ],
          [
           "Electrical and Electronic Equipment Mechanics, Installers, and Repairers"
          ],
          [
           "Electrical and Electronic Equipment Mechanics, Installers, and Repairers"
          ],
          [
           "Vehicle and Mobile Equipment Mechanics, Installers, and Repairers"
          ],
          [
           "Vehicle and Mobile Equipment Mechanics, Installers, and Repairers"
          ],
          [
           "Vehicle and Mobile Equipment Mechanics, Installers, and Repairers"
          ],
          [
           "Vehicle and Mobile Equipment Mechanics, Installers, and Repairers"
          ],
          [
           "Vehicle and Mobile Equipment Mechanics, Installers, and Repairers"
          ],
          [
           "Vehicle and Mobile Equipment Mechanics, Installers, and Repairers"
          ],
          [
           "Other Installation, Maintenance, and Repair Occupations"
          ],
          [
           "Other Installation, Maintenance, and Repair Occupations"
          ],
          [
           "Other Installation, Maintenance, and Repair Occupations"
          ],
          [
           "Other Installation, Maintenance, and Repair Occupations"
          ],
          [
           "Other Installation, Maintenance, and Repair Occupations"
          ],
          [
           "Other Installation, Maintenance, and Repair Occupations"
          ],
          [
           "Supervisors of Production Workers"
          ],
          [
           "Supervisors of Production Workers"
          ],
          [
           "Supervisors of Production Workers"
          ],
          [
           "Supervisors of Production Workers"
          ],
          [
           "Supervisors of Production Workers"
          ],
          [
           "Supervisors of Production Workers"
          ],
          [
           "Assemblers and Fabricators"
          ],
          [
           "Assemblers and Fabricators"
          ],
          [
           "Assemblers and Fabricators"
          ],
          [
           "Assemblers and Fabricators"
          ],
          [
           "Assemblers and Fabricators"
          ],
          [
           "Assemblers and Fabricators"
          ],
          [
           "Food Processing Workers"
          ],
          [
           "Food Processing Workers"
          ],
          [
           "Food Processing Workers"
          ],
          [
           "Food Processing Workers"
          ],
          [
           "Food Processing Workers"
          ],
          [
           "Food Processing Workers"
          ],
          [
           "Metal Workers and Plastic Workers"
          ],
          [
           "Metal Workers and Plastic Workers"
          ],
          [
           "Metal Workers and Plastic Workers"
          ],
          [
           "Metal Workers and Plastic Workers"
          ],
          [
           "Metal Workers and Plastic Workers"
          ],
          [
           "Metal Workers and Plastic Workers"
          ],
          [
           "Printing Workers"
          ],
          [
           "Printing Workers"
          ],
          [
           "Printing Workers"
          ],
          [
           "Printing Workers"
          ],
          [
           "Printing Workers"
          ],
          [
           "Printing Workers"
          ],
          [
           "Textile, Apparel, and Furnishings Workers"
          ],
          [
           "Textile, Apparel, and Furnishings Workers"
          ],
          [
           "Textile, Apparel, and Furnishings Workers"
          ],
          [
           "Textile, Apparel, and Furnishings Workers"
          ],
          [
           "Textile, Apparel, and Furnishings Workers"
          ],
          [
           "Textile, Apparel, and Furnishings Workers"
          ],
          [
           "Woodworkers"
          ],
          [
           "Woodworkers"
          ],
          [
           "Woodworkers"
          ],
          [
           "Woodworkers"
          ],
          [
           "Woodworkers"
          ],
          [
           "Woodworkers"
          ],
          [
           "Plant and System Operators"
          ],
          [
           "Plant and System Operators"
          ],
          [
           "Plant and System Operators"
          ],
          [
           "Plant and System Operators"
          ],
          [
           "Plant and System Operators"
          ],
          [
           "Plant and System Operators"
          ],
          [
           "Other Production Occupations"
          ],
          [
           "Other Production Occupations"
          ],
          [
           "Other Production Occupations"
          ],
          [
           "Other Production Occupations"
          ],
          [
           "Other Production Occupations"
          ],
          [
           "Other Production Occupations"
          ],
          [
           "Supervisors of Transportation and Material Moving Workers"
          ],
          [
           "Supervisors of Transportation and Material Moving Workers"
          ],
          [
           "Supervisors of Transportation and Material Moving Workers"
          ],
          [
           "Supervisors of Transportation and Material Moving Workers"
          ],
          [
           "Supervisors of Transportation and Material Moving Workers"
          ],
          [
           "Supervisors of Transportation and Material Moving Workers"
          ],
          [
           "Air Transportation Workers"
          ],
          [
           "Air Transportation Workers"
          ],
          [
           "Air Transportation Workers"
          ],
          [
           "Air Transportation Workers"
          ],
          [
           "Air Transportation Workers"
          ],
          [
           "Air Transportation Workers"
          ],
          [
           "Motor Vehicle Operators"
          ],
          [
           "Motor Vehicle Operators"
          ],
          [
           "Motor Vehicle Operators"
          ],
          [
           "Motor Vehicle Operators"
          ],
          [
           "Motor Vehicle Operators"
          ],
          [
           "Motor Vehicle Operators"
          ],
          [
           "Rail Transportation Workers"
          ],
          [
           "Rail Transportation Workers"
          ],
          [
           "Rail Transportation Workers"
          ],
          [
           "Rail Transportation Workers"
          ],
          [
           "Rail Transportation Workers"
          ],
          [
           "Rail Transportation Workers"
          ],
          [
           "Water Transportation Workers"
          ],
          [
           "Water Transportation Workers"
          ],
          [
           "Water Transportation Workers"
          ],
          [
           "Water Transportation Workers"
          ],
          [
           "Water Transportation Workers"
          ],
          [
           "Water Transportation Workers"
          ],
          [
           "Other Transportation Workers"
          ],
          [
           "Other Transportation Workers"
          ],
          [
           "Other Transportation Workers"
          ],
          [
           "Other Transportation Workers"
          ],
          [
           "Other Transportation Workers"
          ],
          [
           "Other Transportation Workers"
          ],
          [
           "Material Moving Workers"
          ],
          [
           "Material Moving Workers"
          ],
          [
           "Material Moving Workers"
          ],
          [
           "Material Moving Workers"
          ],
          [
           "Material Moving Workers"
          ],
          [
           "Material Moving Workers"
          ]
         ],
         "hovertemplate": "occupation_level=minor<br>annual_mean=%{x}<br>total_employment=%{y}<br>occupation_title=%{customdata[0]}<br>year=%{marker.color}<extra></extra>",
         "legendgroup": "minor",
         "marker": {
          "color": {
           "bdata": "4wfkB+UH5gfnB+gH4wfkB+UH5gfnB+gH4wfkB+UH5gfnB+gH4wfkB+UH5gfnB+gH4wfkB+UH5gfnB+gH4wfkB+UH5gfnB+gH4wfkB+UH5gfnB+gH4wfkB+UH5gfnB+gH4wfkB+UH5gfnB+gH4wfkB+UH5gfnB+gH4wfkB+UH5gfnB+gH4wfkB+UH5gfnB+gH4wfkB+UH5gfnB+gH4wfkB+UH5gfnB+gH4wfkB+UH5gfnB+gH4wfkB+UH5gfnB+gH4wfkB+UH5gfnB+gH4wfkB+UH5gfnB+gH4wfkB+UH5gfnB+gH4wfkB+UH5gfnB+gH4wfkB+UH5gfnB+gH4wfkB+UH5gfnB+gH4wfkB+UH5gfnB+gH4wfkB+UH5gfnB+gH4wfkB+UH5gfnB+gH4wfkB+UH5gfnB+gH4wfkB+UH5gfnB+gH4wfkB+UH5gfnB+gH4wfkB+UH5gfnB+gH4wfkB+UH5gfnB+gH4wfkB+UH5gfnB+gH4wfkB+UH5gfnB+gH4wfkB+UH5gfnB+gH4wfkB+UH5gfnB+gH4wfkB+UH5gfnB+gH4wfkB+UH5gfnB+gH4wfkB+UH5gfnB+gH4wfkB+UH5gfnB+gH4wfkB+UH5gfnB+gH4wfkB+UH5gfnB+gH4wfkB+UH5gfnB+gH4wfkB+UH5gfnB+gH4wfkB+UH5gfnB+gH4wfkB+UH5gfnB+gH4wfkB+UH5gfnB+gH4wfkB+UH5gfnB+gH4wfkB+UH5gfnB+gH4wfkB+UH5gfnB+gH4wfkB+UH5gfnB+gH4wfkB+UH5gfnB+gH4wfkB+UH5gfnB+gH4wfkB+UH5gfnB+gH4wfkB+UH5gfnB+gH4wfkB+UH5gfnB+gH4wfkB+UH5gfnB+gH4wfkB+UH5gfnB+gH4wfkB+UH5gfnB+gH4wfkB+UH5gfnB+gH4wfkB+UH5gfnB+gH4wfkB+UH5gfnB+gH4wfkB+UH5gfnB+gH4wfkB+UH5gfnB+gH4wfkB+UH5gfnB+gH4wfkB+UH5gfnB+gH4wfkB+UH5gfnB+gH4wfkB+UH5gfnB+gH4wfkB+UH5gfnB+gH4wfkB+UH5gfnB+gH4wfkB+UH5gfnB+gH4wfkB+UH5gfnB+gH4wfkB+UH5gfnB+gH4wfkB+UH5gfnB+gH4wfkB+UH5gfnB+gH4wfkB+UH5gfnB+gH4wfkB+UH5gfnB+gH4wfkB+UH5gfnB+gH4wfkB+UH5gfnB+gH4wfkB+UH5gfnB+gH4wfkB+UH5gfnB+gH4wfkB+UH5gfnB+gH4wfkB+UH5gfnB+gH4wfkB+UH5gfnB+gH4wfkB+UH5gfnB+gH4wfkB+UH5gfnB+gH4wfkB+UH5gfnB+gH4wfkB+UH5gfnB+gH4wfkB+UH5gfnB+gH4wfkB+UH5gfnB+gH4wfkB+UH5gfnB+gH4wfkB+UH5gfnB+gH4wfkB+UH5gfnB+gH4wfkB+UH5gfnB+gH4wfkB+UH5gfnB+gH4wfkB+UH5gfnB+gH",
           "dtype": "i2"
          },
          "coloraxis": "coloraxis",
          "size": 10,
          "symbol": "diamond"
         },
         "mode": "markers",
         "name": "minor",
         "orientation": "v",
         "showlegend": true,
         "type": "scatter",
         "x": {
          "bdata": "AAAAAOAF/0AAAAAAALj/QAAAAACAbP1AAAAAAKCB/0AAAAAAIJ0AQQAAAACgEgFBAAAAABB/AUEAAAAAICgCQQAAAABQtwFBAAAAAACYAkEAAAAAwIYDQQAAAADg/ANBAAAAALBsAEEAAAAA8OoAQQAAAADgEwFBAAAAAPAWAkEAAAAAcPACQQAAAABwmgNBAAAAAAAK+UAAAAAA4Bn6QAAAAADgLfpAAAAAAMCw+0AAAAAAIOb8QAAAAACArf1AAAAAAKBw8kAAAAAAAB/zQAAAAADAn/NAAAAAAABV9EAAAAAAgH71QAAAAADAOPZAAAAAAMBT9EAAAAAAYOD0QAAAAABgU/VAAAAAACCI9kAAAAAAwIz3QAAAAACgb/hAAAAAAEDb9kAAAAAAYJf3QAAAAABAUvhAAAAAAEBk+kAAAAAAYKf7QAAAAAAggvxAAAAAAECo90AAAAAAQFf4QAAAAACAV/lAAAAAAMCE+kAAAAAAwC77QAAAAABgnPxAAAAAACDW80AAAAAA4Ab0QAAAAAAAPPRAAAAAAOAo9UAAAAAA4BP2QAAAAAAgyfZAAAAAACCa+EAAAAAAQAb5QAAAAAAAZPlAAAAAACAq+kAAAAAAIFH7QAAAAACAgfxAAAAAAAB07UAAAAAAgBvuQAAAAACAeu5AAAAAAEBu70AAAAAAQIfwQAAAAABAd/FAAAAAACCs9UAAAAAA4GP2QAAAAABgwPZAAAAAAICk90AAAAAAYJH4QAAAAADA5fhAAAAAAGA+9kAAAAAAgNf2QAAAAABAhfdAAAAAACDS90AAAAAAYK/4QAAAAABgaPlAAAAAAOB99UAAAAAAYAL2QAAAAACgK/ZAAAAAAAAW90AAAAAAwDv4QAAAAACguvhAAAAAAICO6UAAAAAAQOLpQAAAAABAUOpAAAAAAIBL60AAAAAAQEjtQAAAAAAA4u1AAAAAACC/8UAAAAAAAC/yQAAAAADgWPJAAAAAAOA580AAAAAAoPHzQAAAAACgc/RAAAAAAECd6EAAAAAAAHPpQAAAAADAV+pAAAAAAIAt60AAAAAAwMPsQAAAAACAwO5AAAAAAICE6UAAAAAAwEPqQAAAAACAiOpAAAAAAACO7EAAAAAAALDtQAAAAAAAbe9AAAAAAOA7AUEAAAAAULIBQQAAAACwogFBAAAAAPB+A0EAAAAAwO4EQQAAAAAQrQVBAAAAAACA60AAAAAAQETsQAAAAADA5uxAAAAAAAAT70AAAAAAoG3wQAAAAAAgjvBAAAAAAOAs9kAAAAAAIMn2QAAAAAAAPvdAAAAAACB490AAAAAAYNf4QAAAAACgAPlAAAAAAID97UAAAAAAgM/uQAAAAADArO9AAAAAAMAC8EAAAAAAoNHwQAAAAAAgovBAAAAAAEDj40AAAAAAAEDlQAAAAABAs+ZAAAAAAIDH50AAAAAAQLvoQAAAAADACOlAAAAAAECN6UAAAAAAAJDqQAAAAAAAHOtAAAAAAMC160AAAAAAACTtQAAAAACAZ+1AAAAAAEBA4UAAAAAAwPbhQAAAAACA2+JAAAAAAEC740AAAAAAgBrlQAAAAACA/ORAAAAAAED560AAAAAAwOHsQAAAAADAw+xAAAAAAIDT70AAAAAAwNTvQAAAAAAgifBAAAAAAACR7kAAAAAAQArwQAAAAADgi/FAAAAAAGDC9EAAAAAA4NP0QAAAAADg7PRAAAAAAGCP8EAAAAAAQCLxQAAAAAAAhfFAAAAAAKC59EAAAAAAgN/zQAAAAABgRfRAAAAAAMBL7EAAAAAAwErtQAAAAABAy+xAAAAAAOBu8EAAAAAAgBXwQAAAAAAgdfBAAAAAAGAE+UAAAAAAQLD5QAAAAAAAYvtAAAAAAOAM/UAAAAAAAHj+QAAAAABgYv9AAAAAAIA250AAAAAAwOvnQAAAAACAj+hAAAAAAMD96UAAAAAAwM7rQAAAAADA9exAAAAAAICl60AAAAAAAPLsQAAAAADAA+5AAAAAAICI70AAAAAAwKzwQAAAAABgUvFAAAAAAAA120AAAAAAAKLcQAAAAAAAut1AAAAAAACu30AAAAAAACbhQAAAAABA6uFAAAAAAADx6EAAAAAAAJbpQAAAAACAUepAAAAAAEAD7EAAAAAAgOXsQAAAAADAVO1AAAAAAIBZ4kAAAAAAgNHiQAAAAAAAOONAAAAAAMCK5EAAAAAAQPDlQAAAAACApeZAAAAAAADy8kAAAAAAgE7zQAAAAAAgx/NAAAAAAMDl80AAAAAA4Gn1QAAAAAAAvPZAAAAAAADg6kAAAAAAALzrQAAAAADATOtAAAAAAADu60AAAAAAgPPtQAAAAACApu9AAAAAAICi7kAAAAAAANvvQAAAAAAgNPBAAAAAAMB/8EAAAAAAIKvxQAAAAADgcfJAAAAAAIBM4EAAAAAAgA/hQAAAAAAAt+FAAAAAAIAs4kAAAAAAgNXjQAAAAACAEOVAAAAAAIAc40AAAAAAQInjQAAAAABAFeRAAAAAAEAo5UAAAAAAgFrmQAAAAACANudAAAAAAAB32kAAAAAAACvbQAAAAAAAsdxAAAAAAID83kAAAAAAQJvgQAAAAACAUOFAAAAAAIBn2EAAAAAAgFLZQAAAAAAA4NpAAAAAAADT3UAAAAAAgCTgQAAAAABA6+BAAAAAAIAD2EAAAAAAACPZQAAAAACAiNpAAAAAAADo3EAAAAAAgDjfQAAAAACATOBAAAAAAMAo50AAAAAAwPrnQAAAAACAvedAAAAAAIDk6EAAAAAAQEHqQAAAAACApupAAAAAAICp3EAAAAAAAAreQAAAAACA2d5AAAAAAEB44EAAAAAAgKDhQAAAAAAAQ+JAAAAAAIAp4EAAAAAAwOPgQAAAAAAAj+FAAAAAAICa4kAAAAAAgNXjQAAAAADAYuRAAAAAAACu5UAAAAAAwKHmQAAAAADA7OZAAAAAAMDS50AAAAAAQD3pQAAAAAAAm+lAAAAAAAAS20AAAAAAAGHcQAAAAAAAZd1AAAAAAIAB4EAAAAAAQL7gQAAAAABAVOFAAAAAAAB52EAAAAAAAPDZQAAAAACAiNpAAAAAAIAh3UAAAAAAgH7fQAAAAACATOBASCH6YCGB5ECQEQCpSczkQAAAAAAA5uRAAAAAAED65UAAAAAAADrmQAAAAABAaOZAAAAAAAD13kAAAAAAgFbgQAAAAADAQuFAAAAAAADo4kAAAAAAwETkQAAAAAAAvuRAAAAAAICY3kAAAAAAANHfQAAAAAAA7+BAAAAAAICl4UAAAAAAQNDiQAAAAADAIuNAAAAAAIDz3UAAAAAAAHLfQAAAAAAANuBAAAAAAMBz4kAAAAAAAKvjQAAAAABACuVAQOl6naYR30Ayr9AauRzgQAAAAACAPeBAAAAAAACe4UAAAAAAgLjiQAAAAADAJ+NAAAAAAIDU6UAAAAAAAPTqQAAAAAAAzOpAAAAAAECK7EAAAAAAgF3tQAAAAADANu1AAAAAAAD02kAAAAAAgFTcQAAAAAAAW91AAAAAAAC930AAAAAAANvgQAAAAADAUeFAAAAAAMB+8UAAAAAAIFryQAAAAAAgQfJAAAAAAODU80AAAAAAQPb0QAAAAADAFvVAAAAAAMBa8kAAAAAAYB7zQAAAAABg+/JAAAAAAGBF9EAAAAAAgDj1QAAAAACgaPVAAAAAAIAf6kAAAAAAQM3qQAAAAACAKepAAAAAAAB870AAAAAAgEzwQAAAAAAgz/BAAAAAAEBc7UAAAAAAQEfuQAAAAACA8u5AAAAAAMD870AAAAAAwMDwQAAAAACAePFAAAAAAECM4EAAAAAAQB3hQAAAAADAPeFAAAAAAMB94kAAAAAAQM/jQAAAAADA1eRAAAAAAEDo40AAAAAAAHjkQAAAAACAKeVAAAAAAABE5kAAAAAAgF7nQAAAAAAAg+hAAAAAAIDc4UAAAAAAgIHiQAAAAADA4eJAAAAAAIDG40AAAAAAQM7kQAAAAACAxOVAAAAAAMB15UAAAAAAQPDlQAAAAADAUeZAAAAAAEBT50AAAAAAwJ/oQAAAAAAAm+lAAAAAAEAy5UAAAAAAAODlQAAAAABAGOZAAAAAAMBG50AAAAAAQFLoQAAAAADAbOlAAAAAAAAH4kAAAAAAQLLiQAAAAAAAR+NAAAAAAMBJ5EAAAAAAQHjlQAAAAADAb+ZAAAAAAACl6UAAAAAAgJLqQAAAAABAlupAAAAAAIC47EAAAAAAwK7tQAAAAAAA8O5AAAAAAABw3EAAAAAAAHPeQAAAAACAsN9AAAAAAABO4UAAAAAAQD/iQAAAAACAEuNAAAAAAEAV5EAAAAAAwJ7kQAAAAAAAJ+VAAAAAAECQ5kAAAAAAwA7oQAAAAACA/ehAAAAAAABx8UAAAAAA4NHxQAAAAABAU/JAAAAAACD18kAAAAAAwNvzQAAAAABAofRAAAAAAEAQ6UAAAAAAgKzpQAAAAACAb+pAAAAAAMCX60AAAAAAwPrsQAAAAAAAD+5AAAAAAIC/4EAAAAAAAGfhQAAAAACAO+JAAAAAAAAz40AAAAAAgC/kQAAAAACAEOVAAAAAAAAy6UAAAAAAwMHpQAAAAADAsepAAAAAAMDT60AAAAAAQFLtQAAAAACAne5AAAAAAICG50AAAAAAAC7oQAAAAACAV+lAAAAAAEBL6kAAAAAAQKTrQAAAAAAA1OxAAAAAAGA58UAAAAAAwNjxQAAAAABg9/FAAAAAAECP8kAAAAAAwErzQAAAAAAgP/RAAAAAAMCs6kAAAAAAAAfsQAAAAACA9etAAAAAAIAN7UAAAAAAQFHuQAAAAAAAve9AAAAAAAAq50AAAAAAgCHoQAAAAAAAnOhAAAAAAMDB6UAAAAAAADrrQAAAAAAAwOxAAAAAAAAv50AAAAAAQD7oQAAAAABAxehAAAAAAEDd6UAAAAAAgCjrQAAAAACApOxAAAAAAIDY70AAAAAAAE/wQAAAAAAgcPBAAAAAAMDe8EAAAAAAIIPxQAAAAADAMvJAAAAAAMC64UAAAAAAwFXiQAAAAAAAC+NAAAAAAIA55EAAAAAAwDnlQAAAAABAaOZAAAAAAABa3kAAAAAAAODfQAAAAADAhOBAAAAAAIC54UAAAAAAgKniQAAAAABAk+NAAAAAAECI5EAAAAAAgELlQAAAAAAA5eVAAAAAAID15kAAAAAAwBjoQAAAAABAaulAAAAAAMDw4kAAAAAAQHrjQAAAAACA2uNAAAAAAACl5EAAAAAAwH/lQAAAAACAluZAAAAAAAD920AAAAAAADjdQAAAAACAet5AAAAAAEAy4EAAAAAAQDHhQAAAAABADeJAAAAAAIDs4EAAAAAAQIHhQAAAAAAAUuJAAAAAAMBo40AAAAAAQJzkQAAAAAAAveVAAAAAAMDf7kAAAAAAQPrvQAAAAAAgKvBAAAAAAAAw8UAAAAAAoMbxQAAAAACAbfJAAAAAAEDu4kAAAAAAwMfjQAAAAACAa+RAAAAAAICc5UAAAAAAwM7mQAAAAADA8OdAAAAAAEA/7EAAAAAAQHvsQAAAAADAoOxAAAAAAEC27UAAAAAAgC7vQAAAAAAACfBAAAAAACBs+UAAAAAAwDP7QAAAAABgMv1AAAAAAHARAEEAAAAA8BcBQQAAAACwAANBAAAAAMDg40AAAAAAQOLkQAAAAABApeVAAAAAAMAA50AAAAAAwFToQAAAAABAR+lAAAAAAIBq8EAAAAAAAOrvQAAAAACgrvBAAAAAAIAZ8UAAAAAAYJ3xQAAAAAAgVfJAAAAAAIBk8UAAAAAAoPPxQAAAAADAuPNAAAAAAIAR9EAAAAAAYEvzQAAAAABgkfNAAAAAAAA74EAAAAAAQBPhQAAAAACAh+FAAAAAAMBu4kAAAAAAwJXjQAAAAAAA2ONAAAAAAIAL30AAAAAAQEHgQAAAAACACuFAAAAAAMAy4kAAAAAAgFjjQAAAAACAEeRA",
          "dtype": "f8"
         },
         "xaxis": "x",
         "y": {
          "bdata": "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",
          "dtype": "f8"
         },
         "yaxis": "y"
        }
       ],
       "layout": {
        "coloraxis": {
         "colorbar": {
          "title": {
           "text": "year"
          }
         },
         "colorscale": [
          [
           0,
           "rgb(196, 230, 195)"
          ],
          [
           0.16666666666666666,
           "rgb(150, 210, 164)"
          ],
          [
           0.3333333333333333,
           "rgb(109, 188, 144)"
          ],
          [
           0.5,
           "rgb(77, 162, 132)"
          ],
          [
           0.6666666666666666,
           "rgb(54, 135, 122)"
          ],
          [
           0.8333333333333334,
           "rgb(38, 107, 110)"
          ],
          [
           1,
           "rgb(29, 79, 96)"
          ]
         ]
        },
        "height": 1000,
        "legend": {
         "title": {
          "text": "occupation_level"
         },
         "tracegroupgap": 0
        },
        "margin": {
         "t": 60
        },
        "template": {
         "data": {
          "bar": [
           {
            "error_x": {
             "color": "#2a3f5f"
            },
            "error_y": {
             "color": "#2a3f5f"
            },
            "marker": {
             "line": {
              "color": "#E5ECF6",
              "width": 0.5
             },
             "pattern": {
              "fillmode": "overlay",
              "size": 10,
              "solidity": 0.2
             }
            },
            "type": "bar"
           }
          ],
          "barpolar": [
           {
            "marker": {
             "line": {
              "color": "#E5ECF6",
              "width": 0.5
             },
             "pattern": {
              "fillmode": "overlay",
              "size": 10,
              "solidity": 0.2
             }
            },
            "type": "barpolar"
           }
          ],
          "carpet": [
           {
            "aaxis": {
             "endlinecolor": "#2a3f5f",
             "gridcolor": "white",
             "linecolor": "white",
             "minorgridcolor": "white",
             "startlinecolor": "#2a3f5f"
            },
            "baxis": {
             "endlinecolor": "#2a3f5f",
             "gridcolor": "white",
             "linecolor": "white",
             "minorgridcolor": "white",
             "startlinecolor": "#2a3f5f"
            },
            "type": "carpet"
           }
          ],
          "choropleth": [
           {
            "colorbar": {
             "outlinewidth": 0,
             "ticks": ""
            },
            "type": "choropleth"
           }
          ],
          "contour": [
           {
            "colorbar": {
             "outlinewidth": 0,
             "ticks": ""
            },
            "colorscale": [
             [
              0,
              "#0d0887"
             ],
             [
              0.1111111111111111,
              "#46039f"
             ],
             [
              0.2222222222222222,
              "#7201a8"
             ],
             [
              0.3333333333333333,
              "#9c179e"
             ],
             [
              0.4444444444444444,
              "#bd3786"
             ],
             [
              0.5555555555555556,
              "#d8576b"
             ],
             [
              0.6666666666666666,
              "#ed7953"
             ],
             [
              0.7777777777777778,
              "#fb9f3a"
             ],
             [
              0.8888888888888888,
              "#fdca26"
             ],
             [
              1,
              "#f0f921"
             ]
            ],
            "type": "contour"
           }
          ],
          "contourcarpet": [
           {
            "colorbar": {
             "outlinewidth": 0,
             "ticks": ""
            },
            "type": "contourcarpet"
           }
          ],
          "heatmap": [
           {
            "colorbar": {
             "outlinewidth": 0,
             "ticks": ""
            },
            "colorscale": [
             [
              0,
              "#0d0887"
             ],
             [
              0.1111111111111111,
              "#46039f"
             ],
             [
              0.2222222222222222,
              "#7201a8"
             ],
             [
              0.3333333333333333,
              "#9c179e"
             ],
             [
              0.4444444444444444,
              "#bd3786"
             ],
             [
              0.5555555555555556,
              "#d8576b"
             ],
             [
              0.6666666666666666,
              "#ed7953"
             ],
             [
              0.7777777777777778,
              "#fb9f3a"
             ],
             [
              0.8888888888888888,
              "#fdca26"
             ],
             [
              1,
              "#f0f921"
             ]
            ],
            "type": "heatmap"
           }
          ],
          "histogram": [
           {
            "marker": {
             "pattern": {
              "fillmode": "overlay",
              "size": 10,
              "solidity": 0.2
             }
            },
            "type": "histogram"
           }
          ],
          "histogram2d": [
           {
            "colorbar": {
             "outlinewidth": 0,
             "ticks": ""
            },
            "colorscale": [
             [
              0,
              "#0d0887"
             ],
             [
              0.1111111111111111,
              "#46039f"
             ],
             [
              0.2222222222222222,
              "#7201a8"
             ],
             [
              0.3333333333333333,
              "#9c179e"
             ],
             [
              0.4444444444444444,
              "#bd3786"
             ],
             [
              0.5555555555555556,
              "#d8576b"
             ],
             [
              0.6666666666666666,
              "#ed7953"
             ],
             [
              0.7777777777777778,
              "#fb9f3a"
             ],
             [
              0.8888888888888888,
              "#fdca26"
             ],
             [
              1,
              "#f0f921"
             ]
            ],
            "type": "histogram2d"
           }
          ],
          "histogram2dcontour": [
           {
            "colorbar": {
             "outlinewidth": 0,
             "ticks": ""
            },
            "colorscale": [
             [
              0,
              "#0d0887"
             ],
             [
              0.1111111111111111,
              "#46039f"
             ],
             [
              0.2222222222222222,
              "#7201a8"
             ],
             [
              0.3333333333333333,
              "#9c179e"
             ],
             [
              0.4444444444444444,
              "#bd3786"
             ],
             [
              0.5555555555555556,
              "#d8576b"
             ],
             [
              0.6666666666666666,
              "#ed7953"
             ],
             [
              0.7777777777777778,
              "#fb9f3a"
             ],
             [
              0.8888888888888888,
              "#fdca26"
             ],
             [
              1,
              "#f0f921"
             ]
            ],
            "type": "histogram2dcontour"
           }
          ],
          "mesh3d": [
           {
            "colorbar": {
             "outlinewidth": 0,
             "ticks": ""
            },
            "type": "mesh3d"
           }
          ],
          "parcoords": [
           {
            "line": {
             "colorbar": {
              "outlinewidth": 0,
              "ticks": ""
             }
            },
            "type": "parcoords"
           }
          ],
          "pie": [
           {
            "automargin": true,
            "type": "pie"
           }
          ],
          "scatter": [
           {
            "fillpattern": {
             "fillmode": "overlay",
             "size": 10,
             "solidity": 0.2
            },
            "type": "scatter"
           }
          ],
          "scatter3d": [
           {
            "line": {
             "colorbar": {
              "outlinewidth": 0,
              "ticks": ""
             }
            },
            "marker": {
             "colorbar": {
              "outlinewidth": 0,
              "ticks": ""
             }
            },
            "type": "scatter3d"
           }
          ],
          "scattercarpet": [
           {
            "marker": {
             "colorbar": {
              "outlinewidth": 0,
              "ticks": ""
             }
            },
            "type": "scattercarpet"
           }
          ],
          "scattergeo": [
           {
            "marker": {
             "colorbar": {
              "outlinewidth": 0,
              "ticks": ""
             }
            },
            "type": "scattergeo"
           }
          ],
          "scattergl": [
           {
            "marker": {
             "colorbar": {
              "outlinewidth": 0,
              "ticks": ""
             }
            },
            "type": "scattergl"
           }
          ],
          "scattermap": [
           {
            "marker": {
             "colorbar": {
              "outlinewidth": 0,
              "ticks": ""
             }
            },
            "type": "scattermap"
           }
          ],
          "scattermapbox": [
           {
            "marker": {
             "colorbar": {
              "outlinewidth": 0,
              "ticks": ""
             }
            },
            "type": "scattermapbox"
           }
          ],
          "scatterpolar": [
           {
            "marker": {
             "colorbar": {
              "outlinewidth": 0,
              "ticks": ""
             }
            },
            "type": "scatterpolar"
           }
          ],
          "scatterpolargl": [
           {
            "marker": {
             "colorbar": {
              "outlinewidth": 0,
              "ticks": ""
             }
            },
            "type": "scatterpolargl"
           }
          ],
          "scatterternary": [
           {
            "marker": {
             "colorbar": {
              "outlinewidth": 0,
              "ticks": ""
             }
            },
            "type": "scatterternary"
           }
          ],
          "surface": [
           {
            "colorbar": {
             "outlinewidth": 0,
             "ticks": ""
            },
            "colorscale": [
             [
              0,
              "#0d0887"
             ],
             [
              0.1111111111111111,
              "#46039f"
             ],
             [
              0.2222222222222222,
              "#7201a8"
             ],
             [
              0.3333333333333333,
              "#9c179e"
             ],
             [
              0.4444444444444444,
              "#bd3786"
             ],
             [
              0.5555555555555556,
              "#d8576b"
             ],
             [
              0.6666666666666666,
              "#ed7953"
             ],
             [
              0.7777777777777778,
              "#fb9f3a"
             ],
             [
              0.8888888888888888,
              "#fdca26"
             ],
             [
              1,
              "#f0f921"
             ]
            ],
            "type": "surface"
           }
          ],
          "table": [
           {
            "cells": {
             "fill": {
              "color": "#EBF0F8"
             },
             "line": {
              "color": "white"
             }
            },
            "header": {
             "fill": {
              "color": "#C8D4E3"
             },
             "line": {
              "color": "white"
             }
            },
            "type": "table"
           }
          ]
         },
         "layout": {
          "annotationdefaults": {
           "arrowcolor": "#2a3f5f",
           "arrowhead": 0,
           "arrowwidth": 1
          },
          "autotypenumbers": "strict",
          "coloraxis": {
           "colorbar": {
            "outlinewidth": 0,
            "ticks": ""
           }
          },
          "colorscale": {
           "diverging": [
            [
             0,
             "#8e0152"
            ],
            [
             0.1,
             "#c51b7d"
            ],
            [
             0.2,
             "#de77ae"
            ],
            [
             0.3,
             "#f1b6da"
            ],
            [
             0.4,
             "#fde0ef"
            ],
            [
             0.5,
             "#f7f7f7"
            ],
            [
             0.6,
             "#e6f5d0"
            ],
            [
             0.7,
             "#b8e186"
            ],
            [
             0.8,
             "#7fbc41"
            ],
            [
             0.9,
             "#4d9221"
            ],
            [
             1,
             "#276419"
            ]
           ],
           "sequential": [
            [
             0,
             "#0d0887"
            ],
            [
             0.1111111111111111,
             "#46039f"
            ],
            [
             0.2222222222222222,
             "#7201a8"
            ],
            [
             0.3333333333333333,
             "#9c179e"
            ],
            [
             0.4444444444444444,
             "#bd3786"
            ],
            [
             0.5555555555555556,
             "#d8576b"
            ],
            [
             0.6666666666666666,
             "#ed7953"
            ],
            [
             0.7777777777777778,
             "#fb9f3a"
            ],
            [
             0.8888888888888888,
             "#fdca26"
            ],
            [
             1,
             "#f0f921"
            ]
           ],
           "sequentialminus": [
            [
             0,
             "#0d0887"
            ],
            [
             0.1111111111111111,
             "#46039f"
            ],
            [
             0.2222222222222222,
             "#7201a8"
            ],
            [
             0.3333333333333333,
             "#9c179e"
            ],
            [
             0.4444444444444444,
             "#bd3786"
            ],
            [
             0.5555555555555556,
             "#d8576b"
            ],
            [
             0.6666666666666666,
             "#ed7953"
            ],
            [
             0.7777777777777778,
             "#fb9f3a"
            ],
            [
             0.8888888888888888,
             "#fdca26"
            ],
            [
             1,
             "#f0f921"
            ]
           ]
          },
          "colorway": [
           "#636efa",
           "#EF553B",
           "#00cc96",
           "#ab63fa",
           "#FFA15A",
           "#19d3f3",
           "#FF6692",
           "#B6E880",
           "#FF97FF",
           "#FECB52"
          ],
          "font": {
           "color": "#2a3f5f"
          },
          "geo": {
           "bgcolor": "white",
           "lakecolor": "white",
           "landcolor": "#E5ECF6",
           "showlakes": true,
           "showland": true,
           "subunitcolor": "white"
          },
          "hoverlabel": {
           "align": "left"
          },
          "hovermode": "closest",
          "mapbox": {
           "style": "light"
          },
          "paper_bgcolor": "white",
          "plot_bgcolor": "#E5ECF6",
          "polar": {
           "angularaxis": {
            "gridcolor": "white",
            "linecolor": "white",
            "ticks": ""
           },
           "bgcolor": "#E5ECF6",
           "radialaxis": {
            "gridcolor": "white",
            "linecolor": "white",
            "ticks": ""
           }
          },
          "scene": {
           "xaxis": {
            "backgroundcolor": "#E5ECF6",
            "gridcolor": "white",
            "gridwidth": 2,
            "linecolor": "white",
            "showbackground": true,
            "ticks": "",
            "zerolinecolor": "white"
           },
           "yaxis": {
            "backgroundcolor": "#E5ECF6",
            "gridcolor": "white",
            "gridwidth": 2,
            "linecolor": "white",
            "showbackground": true,
            "ticks": "",
            "zerolinecolor": "white"
           },
           "zaxis": {
            "backgroundcolor": "#E5ECF6",
            "gridcolor": "white",
            "gridwidth": 2,
            "linecolor": "white",
            "showbackground": true,
            "ticks": "",
            "zerolinecolor": "white"
           }
          },
          "shapedefaults": {
           "line": {
            "color": "#2a3f5f"
           }
          },
          "ternary": {
           "aaxis": {
            "gridcolor": "white",
            "linecolor": "white",
            "ticks": ""
           },
           "baxis": {
            "gridcolor": "white",
            "linecolor": "white",
            "ticks": ""
           },
           "bgcolor": "#E5ECF6",
           "caxis": {
            "gridcolor": "white",
            "linecolor": "white",
            "ticks": ""
           }
          },
          "title": {
           "x": 0.05
          },
          "xaxis": {
           "automargin": true,
           "gridcolor": "white",
           "linecolor": "white",
           "ticks": "",
           "title": {
            "standoff": 15
           },
           "zerolinecolor": "white",
           "zerolinewidth": 2
          },
          "yaxis": {
           "automargin": true,
           "gridcolor": "white",
           "linecolor": "white",
           "ticks": "",
           "title": {
            "standoff": 15
           },
           "zerolinecolor": "white",
           "zerolinewidth": 2
          }
         }
        },
        "width": 1000,
        "xaxis": {
         "anchor": "y",
         "domain": [
          0,
          1
         ],
         "title": {
          "text": "annual_mean"
         },
         "type": "log"
        },
        "yaxis": {
         "anchor": "x",
         "domain": [
          0,
          1
         ],
         "title": {
          "text": "total_employment"
         },
         "type": "log"
        }
       }
      },
      "image/png": "[encoded data removed]"
     },
     "metadata": {},
     "output_type": "display_data"
    }
   ],
   "source": [
    "fig = px.scatter(\n",
    "    df_aux, \n",
    "    x=\"annual_mean\", \n",
    "    y=\"total_employment\", \n",
    "    log_x=True, \n",
    "    log_y=True,\n",
    "    symbol=\"occupation_level\",\n",
    "    color=\"year\",\n",
    "    color_continuous_scale=\"blugrn\",\n",
    "    hover_data=\"occupation_title\",\n",
    "    width=1000, \n",
    "    height=1000\n",
    ")\n",
    "\n",
    "fig.update_traces(marker=dict(size=10))\n",
    "fig"
   ]
  },
  {
   "cell_type": "code",
   "execution_count": 359,
   "id": "2875ad49-76e4-4e2e-b8f8-b5cd1b830e99",
   "metadata": {},
   "outputs": [],
   "source": [
    "df_aux = df_plot.loc[\n",
    "    (level_mask)\n",
    "    & (title_mask)\n",
    "]\n",
    "\n",
    "data_columns = [column for column in df_final.columns if \"annual\" in column]\n",
    "df_aux = df_aux[[\"year\"] + data_columns].groupby(\"year\").mean()\n",
    "df_aux = df_aux.reset_index()"
   ]
  },
  {
   "cell_type": "code",
   "execution_count": 360,
   "id": "d1a862e5-877b-4811-b93c-781efeacf66e",
   "metadata": {},
   "outputs": [
    {
     "data": {
      "application/vnd.plotly.v1+json": {
       "config": {
        "plotlyServerURL": "https://plot.ly"
       },
       "data": [
        {
         "hovertemplate": "variable=annual_mean<br>year=%{x}<br>value=%{y}<extra></extra>",
         "legendgroup": "annual_mean",
         "line": {
          "color": "#636efa",
          "dash": "solid"
         },
         "marker": {
          "symbol": "circle"
         },
         "mode": "lines",
         "name": "annual_mean",
         "orientation": "v",
         "showlegend": true,
         "type": "scatter",
         "x": {
          "bdata": "4wfkB+UH5gfnB+gH",
          "dtype": "i2"
         },
         "xaxis": "x",
         "y": {
          "bdata": "H8qDAYHV60ALuyucK8PsQITlnkbIXu1AWO5phNUf70CE5Z5GsFHwQAAAAABw4/BA",
          "dtype": "f8"
         },
         "yaxis": "y"
        },
        {
         "hovertemplate": "variable=annual_percentile_10<br>year=%{x}<br>value=%{y}<extra></extra>",
         "legendgroup": "annual_percentile_10",
         "line": {
          "color": "#EF553B",
          "dash": "solid"
         },
         "marker": {
          "symbol": "circle"
         },
         "mode": "lines",
         "name": "annual_percentile_10",
         "orientation": "v",
         "showlegend": true,
         "type": "scatter",
         "x": {
          "bdata": "4wfkB+UH5gfnB+gH",
          "dtype": "i2"
         },
         "xaxis": "x",
         "y": {
          "bdata": "GPJ3JCrp3EC4lLYAFO/dQEdY7mlEZ99APo2w3FOr4EA1wnJPs7zhQE8jLPcEiOJA",
          "dtype": "f8"
         },
         "yaxis": "y"
        },
        {
         "hovertemplate": "variable=annual_percentile_25<br>year=%{x}<br>value=%{y}<extra></extra>",
         "legendgroup": "annual_percentile_25",
         "line": {
          "color": "#00cc96",
          "dash": "solid"
         },
         "marker": {
          "symbol": "circle"
         },
         "mode": "lines",
         "name": "annual_percentile_25",
         "orientation": "v",
         "showlegend": true,
         "type": "scatter",
         "x": {
          "bdata": "4wfkB+UH5gfnB+gH",
          "dtype": "i2"
         },
         "xaxis": "x",
         "y": {
          "bdata": "MdZNEvOB4kAXEDHCFivjQAAAAABA2eNAWO5phOXi5ECfRljuGSPmQAnLPY2Q+uZA",
          "dtype": "f8"
         },
         "yaxis": "y"
        },
        {
         "hovertemplate": "variable=annual_percentile_50<br>year=%{x}<br>value=%{y}<extra></extra>",
         "legendgroup": "annual_percentile_50",
         "line": {
          "color": "#ab63fa",
          "dash": "solid"
         },
         "marker": {
          "symbol": "circle"
         },
         "mode": "lines",
         "name": "annual_percentile_50",
         "orientation": "v",
         "showlegend": true,
         "type": "scatter",
         "x": {
          "bdata": "4wfkB+UH5gfnB+gH",
          "dtype": "i2"
         },
         "xaxis": "x",
         "y": {
          "bdata": "pyZo8grF6EAzgjtWfKXpQCz3NMLiFOpAlnsaYZlb60B8GmG517fsQOaeRlguze1A",
          "dtype": "f8"
         },
         "yaxis": "y"
        },
        {
         "hovertemplate": "variable=annual_percentile_75<br>year=%{x}<br>value=%{y}<extra></extra>",
         "legendgroup": "annual_percentile_75",
         "line": {
          "color": "#FFA15A",
          "dash": "solid"
         },
         "marker": {
          "symbol": "circle"
         },
         "mode": "lines",
         "name": "annual_percentile_75",
         "orientation": "v",
         "showlegend": true,
         "type": "scatter",
         "x": {
          "bdata": "4wfkB+UH5gfnB+gH",
          "dtype": "i2"
         },
         "xaxis": "x",
         "y": {
          "bdata": "Y5vbv/He8EC/b3mPjm7xQMJyTyPMlPFA9zTCcp9g8kCWexphYUHzQMs9jbCE6vNA",
          "dtype": "f8"
         },
         "yaxis": "y"
        },
        {
         "hovertemplate": "variable=annual_percentile_90<br>year=%{x}<br>value=%{y}<extra></extra>",
         "legendgroup": "annual_percentile_90",
         "line": {
          "color": "#19d3f3",
          "dash": "solid"
         },
         "marker": {
          "symbol": "circle"
         },
         "mode": "lines",
         "name": "annual_percentile_90",
         "orientation": "v",
         "showlegend": true,
         "type": "scatter",
         "x": {
          "bdata": "4wfkB+UH5gfnB+gH",
          "dtype": "i2"
         },
         "xaxis": "x",
         "y": {
          "bdata": "XoMXiGWe9kC9I/5ITln3QIuew373O/dAR9UUMUll+ECuyrqz0YP5QJJRNUVGXPpA",
          "dtype": "f8"
         },
         "yaxis": "y"
        }
       ],
       "layout": {
        "height": 800,
        "legend": {
         "title": {
          "text": "variable"
         },
         "tracegroupgap": 0
        },
        "margin": {
         "t": 60
        },
        "template": {
         "data": {
          "bar": [
           {
            "error_x": {
             "color": "#2a3f5f"
            },
            "error_y": {
             "color": "#2a3f5f"
            },
            "marker": {
             "line": {
              "color": "#E5ECF6",
              "width": 0.5
             },
             "pattern": {
              "fillmode": "overlay",
              "size": 10,
              "solidity": 0.2
             }
            },
            "type": "bar"
           }
          ],
          "barpolar": [
           {
            "marker": {
             "line": {
              "color": "#E5ECF6",
              "width": 0.5
             },
             "pattern": {
              "fillmode": "overlay",
              "size": 10,
              "solidity": 0.2
             }
            },
            "type": "barpolar"
           }
          ],
          "carpet": [
           {
            "aaxis": {
             "endlinecolor": "#2a3f5f",
             "gridcolor": "white",
             "linecolor": "white",
             "minorgridcolor": "white",
             "startlinecolor": "#2a3f5f"
            },
            "baxis": {
             "endlinecolor": "#2a3f5f",
             "gridcolor": "white",
             "linecolor": "white",
             "minorgridcolor": "white",
             "startlinecolor": "#2a3f5f"
            },
            "type": "carpet"
           }
          ],
          "choropleth": [
           {
            "colorbar": {
             "outlinewidth": 0,
             "ticks": ""
            },
            "type": "choropleth"
           }
          ],
          "contour": [
           {
            "colorbar": {
             "outlinewidth": 0,
             "ticks": ""
            },
            "colorscale": [
             [
              0,
              "#0d0887"
             ],
             [
              0.1111111111111111,
              "#46039f"
             ],
             [
              0.2222222222222222,
              "#7201a8"
             ],
             [
              0.3333333333333333,
              "#9c179e"
             ],
             [
              0.4444444444444444,
              "#bd3786"
             ],
             [
              0.5555555555555556,
              "#d8576b"
             ],
             [
              0.6666666666666666,
              "#ed7953"
             ],
             [
              0.7777777777777778,
              "#fb9f3a"
             ],
             [
              0.8888888888888888,
              "#fdca26"
             ],
             [
              1,
              "#f0f921"
             ]
            ],
            "type": "contour"
           }
          ],
          "contourcarpet": [
           {
            "colorbar": {
             "outlinewidth": 0,
             "ticks": ""
            },
            "type": "contourcarpet"
           }
          ],
          "heatmap": [
           {
            "colorbar": {
             "outlinewidth": 0,
             "ticks": ""
            },
            "colorscale": [
             [
              0,
              "#0d0887"
             ],
             [
              0.1111111111111111,
              "#46039f"
             ],
             [
              0.2222222222222222,
              "#7201a8"
             ],
             [
              0.3333333333333333,
              "#9c179e"
             ],
             [
              0.4444444444444444,
              "#bd3786"
             ],
             [
              0.5555555555555556,
              "#d8576b"
             ],
             [
              0.6666666666666666,
              "#ed7953"
             ],
             [
              0.7777777777777778,
              "#fb9f3a"
             ],
             [
              0.8888888888888888,
              "#fdca26"
             ],
             [
              1,
              "#f0f921"
             ]
            ],
            "type": "heatmap"
           }
          ],
          "histogram": [
           {
            "marker": {
             "pattern": {
              "fillmode": "overlay",
              "size": 10,
              "solidity": 0.2
             }
            },
            "type": "histogram"
           }
          ],
          "histogram2d": [
           {
            "colorbar": {
             "outlinewidth": 0,
             "ticks": ""
            },
            "colorscale": [
             [
              0,
              "#0d0887"
             ],
             [
              0.1111111111111111,
              "#46039f"
             ],
             [
              0.2222222222222222,
              "#7201a8"
             ],
             [
              0.3333333333333333,
              "#9c179e"
             ],
             [
              0.4444444444444444,
              "#bd3786"
             ],
             [
              0.5555555555555556,
              "#d8576b"
             ],
             [
              0.6666666666666666,
              "#ed7953"
             ],
             [
              0.7777777777777778,
              "#fb9f3a"
             ],
             [
              0.8888888888888888,
              "#fdca26"
             ],
             [
              1,
              "#f0f921"
             ]
            ],
            "type": "histogram2d"
           }
          ],
          "histogram2dcontour": [
           {
            "colorbar": {
             "outlinewidth": 0,
             "ticks": ""
            },
            "colorscale": [
             [
              0,
              "#0d0887"
             ],
             [
              0.1111111111111111,
              "#46039f"
             ],
             [
              0.2222222222222222,
              "#7201a8"
             ],
             [
              0.3333333333333333,
              "#9c179e"
             ],
             [
              0.4444444444444444,
              "#bd3786"
             ],
             [
              0.5555555555555556,
              "#d8576b"
             ],
             [
              0.6666666666666666,
              "#ed7953"
             ],
             [
              0.7777777777777778,
              "#fb9f3a"
             ],
             [
              0.8888888888888888,
              "#fdca26"
             ],
             [
              1,
              "#f0f921"
             ]
            ],
            "type": "histogram2dcontour"
           }
          ],
          "mesh3d": [
           {
            "colorbar": {
             "outlinewidth": 0,
             "ticks": ""
            },
            "type": "mesh3d"
           }
          ],
          "parcoords": [
           {
            "line": {
             "colorbar": {
              "outlinewidth": 0,
              "ticks": ""
             }
            },
            "type": "parcoords"
           }
          ],
          "pie": [
           {
            "automargin": true,
            "type": "pie"
           }
          ],
          "scatter": [
           {
            "fillpattern": {
             "fillmode": "overlay",
             "size": 10,
             "solidity": 0.2
            },
            "type": "scatter"
           }
          ],
          "scatter3d": [
           {
            "line": {
             "colorbar": {
              "outlinewidth": 0,
              "ticks": ""
             }
            },
            "marker": {
             "colorbar": {
              "outlinewidth": 0,
              "ticks": ""
             }
            },
            "type": "scatter3d"
           }
          ],
          "scattercarpet": [
           {
            "marker": {
             "colorbar": {
              "outlinewidth": 0,
              "ticks": ""
             }
            },
            "type": "scattercarpet"
           }
          ],
          "scattergeo": [
           {
            "marker": {
             "colorbar": {
              "outlinewidth": 0,
              "ticks": ""
             }
            },
            "type": "scattergeo"
           }
          ],
          "scattergl": [
           {
            "marker": {
             "colorbar": {
              "outlinewidth": 0,
              "ticks": ""
             }
            },
            "type": "scattergl"
           }
          ],
          "scattermap": [
           {
            "marker": {
             "colorbar": {
              "outlinewidth": 0,
              "ticks": ""
             }
            },
            "type": "scattermap"
           }
          ],
          "scattermapbox": [
           {
            "marker": {
             "colorbar": {
              "outlinewidth": 0,
              "ticks": ""
             }
            },
            "type": "scattermapbox"
           }
          ],
          "scatterpolar": [
           {
            "marker": {
             "colorbar": {
              "outlinewidth": 0,
              "ticks": ""
             }
            },
            "type": "scatterpolar"
           }
          ],
          "scatterpolargl": [
           {
            "marker": {
             "colorbar": {
              "outlinewidth": 0,
              "ticks": ""
             }
            },
            "type": "scatterpolargl"
           }
          ],
          "scatterternary": [
           {
            "marker": {
             "colorbar": {
              "outlinewidth": 0,
              "ticks": ""
             }
            },
            "type": "scatterternary"
           }
          ],
          "surface": [
           {
            "colorbar": {
             "outlinewidth": 0,
             "ticks": ""
            },
            "colorscale": [
             [
              0,
              "#0d0887"
             ],
             [
              0.1111111111111111,
              "#46039f"
             ],
             [
              0.2222222222222222,
              "#7201a8"
             ],
             [
              0.3333333333333333,
              "#9c179e"
             ],
             [
              0.4444444444444444,
              "#bd3786"
             ],
             [
              0.5555555555555556,
              "#d8576b"
             ],
             [
              0.6666666666666666,
              "#ed7953"
             ],
             [
              0.7777777777777778,
              "#fb9f3a"
             ],
             [
              0.8888888888888888,
              "#fdca26"
             ],
             [
              1,
              "#f0f921"
             ]
            ],
            "type": "surface"
           }
          ],
          "table": [
           {
            "cells": {
             "fill": {
              "color": "#EBF0F8"
             },
             "line": {
              "color": "white"
             }
            },
            "header": {
             "fill": {
              "color": "#C8D4E3"
             },
             "line": {
              "color": "white"
             }
            },
            "type": "table"
           }
          ]
         },
         "layout": {
          "annotationdefaults": {
           "arrowcolor": "#2a3f5f",
           "arrowhead": 0,
           "arrowwidth": 1
          },
          "autotypenumbers": "strict",
          "coloraxis": {
           "colorbar": {
            "outlinewidth": 0,
            "ticks": ""
           }
          },
          "colorscale": {
           "diverging": [
            [
             0,
             "#8e0152"
            ],
            [
             0.1,
             "#c51b7d"
            ],
            [
             0.2,
             "#de77ae"
            ],
            [
             0.3,
             "#f1b6da"
            ],
            [
             0.4,
             "#fde0ef"
            ],
            [
             0.5,
             "#f7f7f7"
            ],
            [
             0.6,
             "#e6f5d0"
            ],
            [
             0.7,
             "#b8e186"
            ],
            [
             0.8,
             "#7fbc41"
            ],
            [
             0.9,
             "#4d9221"
            ],
            [
             1,
             "#276419"
            ]
           ],
           "sequential": [
            [
             0,
             "#0d0887"
            ],
            [
             0.1111111111111111,
             "#46039f"
            ],
            [
             0.2222222222222222,
             "#7201a8"
            ],
            [
             0.3333333333333333,
             "#9c179e"
            ],
            [
             0.4444444444444444,
             "#bd3786"
            ],
            [
             0.5555555555555556,
             "#d8576b"
            ],
            [
             0.6666666666666666,
             "#ed7953"
            ],
            [
             0.7777777777777778,
             "#fb9f3a"
            ],
            [
             0.8888888888888888,
             "#fdca26"
            ],
            [
             1,
             "#f0f921"
            ]
           ],
           "sequentialminus": [
            [
             0,
             "#0d0887"
            ],
            [
             0.1111111111111111,
             "#46039f"
            ],
            [
             0.2222222222222222,
             "#7201a8"
            ],
            [
             0.3333333333333333,
             "#9c179e"
            ],
            [
             0.4444444444444444,
             "#bd3786"
            ],
            [
             0.5555555555555556,
             "#d8576b"
            ],
            [
             0.6666666666666666,
             "#ed7953"
            ],
            [
             0.7777777777777778,
             "#fb9f3a"
            ],
            [
             0.8888888888888888,
             "#fdca26"
            ],
            [
             1,
             "#f0f921"
            ]
           ]
          },
          "colorway": [
           "#636efa",
           "#EF553B",
           "#00cc96",
           "#ab63fa",
           "#FFA15A",
           "#19d3f3",
           "#FF6692",
           "#B6E880",
           "#FF97FF",
           "#FECB52"
          ],
          "font": {
           "color": "#2a3f5f"
          },
          "geo": {
           "bgcolor": "white",
           "lakecolor": "white",
           "landcolor": "#E5ECF6",
           "showlakes": true,
           "showland": true,
           "subunitcolor": "white"
          },
          "hoverlabel": {
           "align": "left"
          },
          "hovermode": "closest",
          "mapbox": {
           "style": "light"
          },
          "paper_bgcolor": "white",
          "plot_bgcolor": "#E5ECF6",
          "polar": {
           "angularaxis": {
            "gridcolor": "white",
            "linecolor": "white",
            "ticks": ""
           },
           "bgcolor": "#E5ECF6",
           "radialaxis": {
            "gridcolor": "white",
            "linecolor": "white",
            "ticks": ""
           }
          },
          "scene": {
           "xaxis": {
            "backgroundcolor": "#E5ECF6",
            "gridcolor": "white",
            "gridwidth": 2,
            "linecolor": "white",
            "showbackground": true,
            "ticks": "",
            "zerolinecolor": "white"
           },
           "yaxis": {
            "backgroundcolor": "#E5ECF6",
            "gridcolor": "white",
            "gridwidth": 2,
            "linecolor": "white",
            "showbackground": true,
            "ticks": "",
            "zerolinecolor": "white"
           },
           "zaxis": {
            "backgroundcolor": "#E5ECF6",
            "gridcolor": "white",
            "gridwidth": 2,
            "linecolor": "white",
            "showbackground": true,
            "ticks": "",
            "zerolinecolor": "white"
           }
          },
          "shapedefaults": {
           "line": {
            "color": "#2a3f5f"
           }
          },
          "ternary": {
           "aaxis": {
            "gridcolor": "white",
            "linecolor": "white",
            "ticks": ""
           },
           "baxis": {
            "gridcolor": "white",
            "linecolor": "white",
            "ticks": ""
           },
           "bgcolor": "#E5ECF6",
           "caxis": {
            "gridcolor": "white",
            "linecolor": "white",
            "ticks": ""
           }
          },
          "title": {
           "x": 0.05
          },
          "xaxis": {
           "automargin": true,
           "gridcolor": "white",
           "linecolor": "white",
           "ticks": "",
           "title": {
            "standoff": 15
           },
           "zerolinecolor": "white",
           "zerolinewidth": 2
          },
          "yaxis": {
           "automargin": true,
           "gridcolor": "white",
           "linecolor": "white",
           "ticks": "",
           "title": {
            "standoff": 15
           },
           "zerolinecolor": "white",
           "zerolinewidth": 2
          }
         }
        },
        "width": 1000,
        "xaxis": {
         "anchor": "y",
         "domain": [
          0,
          1
         ],
         "title": {
          "text": "year"
         }
        },
        "yaxis": {
         "anchor": "x",
         "domain": [
          0,
          1
         ],
         "title": {
          "text": "value"
         },
         "type": "log"
        }
       }
      },
      "image/png": "[encoded data removed]"
     },
     "metadata": {},
     "output_type": "display_data"
    }
   ],
   "source": [
    "# add note that total for minor and major could be different -> some groups could have more titles under them, or create a weighted average with number of total employment\n",
    "\n",
    "px.line(\n",
    "    df_aux, \n",
    "    x = \"year\", \n",
    "    y = [\n",
    "        \"annual_mean\", \n",
    "        \"annual_percentile_10\", \n",
    "        \"annual_percentile_25\", \n",
    "        \"annual_percentile_50\", \n",
    "        \"annual_percentile_75\", \n",
    "        \"annual_percentile_90\",\n",
    "    ],\n",
    "    log_y=True,\n",
    "    width=1000, \n",
    "    height=800\n",
    ")"
   ]
  },
  {
   "cell_type": "code",
   "execution_count": null,
   "id": "2f579843-5e2c-4151-8831-a9c50e3d17db",
   "metadata": {},
   "outputs": [],
   "source": []
  }
 ],
 "metadata": {
  "kernelspec": {
   "display_name": "Python 3 (ipykernel)",
   "language": "python",
   "name": "python3"
  },
  "language_info": {
   "codemirror_mode": {
    "name": "ipython",
    "version": 3
   },
   "file_extension": ".py",
   "mimetype": "text/x-python",
   "name": "python",
   "nbconvert_exporter": "python",
   "pygments_lexer": "ipython3",
   "version": "3.11.4"
  }
 },
 "nbformat": 4,
 "nbformat_minor": 5
}
